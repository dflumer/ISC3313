{
 "cells": [
  {
   "cell_type": "markdown",
   "metadata": {
    "slideshow": {
     "slide_type": "slide"
    }
   },
   "source": [
    "# Random Numbers\n",
    "\n",
    "<div align='center'><img src='https://raw.githubusercontent.com/TaraKhodaei/ISC-3313/master/images/backgammon.gif' width='50%'/></div>"
   ]
  },
  {
   "cell_type": "markdown",
   "metadata": {
    "slideshow": {
     "slide_type": "slide"
    }
   },
   "source": [
    "In scientific computing and statistics random numbers are very important. \n",
    "\n",
    "This lecture will cover some techniques to create random numbers and introduce some important algorithms that make use up random numbers."
   ]
  },
  {
   "cell_type": "markdown",
   "metadata": {
    "slideshow": {
     "slide_type": "slide"
    }
   },
   "source": [
    "## Histograms\n",
    "\n",
    "Today we will be plotting plenty of histograms. \n",
    "\n",
    "A histogram is a kind of bar graph. \n",
    "\n",
    "Given some data over a range, the range is binned. \n",
    "\n",
    "We then count how much of our data falls in each bin and do a bar graph of those numbers. \n",
    "\n",
    "The `hist()` function in matplotlib.pyplot does this for us."
   ]
  },
  {
   "cell_type": "code",
   "execution_count": 1,
   "metadata": {
    "slideshow": {
     "slide_type": "subslide"
    }
   },
   "outputs": [
    {
     "data": {
      "image/png": "[encoded data removed]",
      "text/plain": [
       "<Figure size 432x288 with 1 Axes>"
      ]
     },
     "metadata": {
      "needs_background": "light"
     },
     "output_type": "display_data"
    }
   ],
   "source": [
    "%matplotlib inline\n",
    "import matplotlib.pyplot as plt\n",
    "import numpy as np\n",
    "\n",
    "x = np.random.normal(size=1000)\n",
    "\n",
    "plt.hist(x);"
   ]
  },
  {
   "cell_type": "markdown",
   "metadata": {
    "slideshow": {
     "slide_type": "subslide"
    }
   },
   "source": [
    "The `hist()` function takes in an optional second argument that specifies where the bins should be placed. "
   ]
  },
  {
   "cell_type": "code",
   "execution_count": 2,
   "metadata": {},
   "outputs": [
    {
     "data": {
      "image/png": "[encoded data removed]",
      "text/plain": [
       "<Figure size 432x288 with 1 Axes>"
      ]
     },
     "metadata": {
      "needs_background": "light"
     },
     "output_type": "display_data"
    }
   ],
   "source": [
    "plt.hist(x, bins = 100);"
   ]
  },
  {
   "cell_type": "markdown",
   "metadata": {
    "slideshow": {
     "slide_type": "slide"
    }
   },
   "source": [
    "# Probability Density Functions\n",
    "\n",
    "Before we talk about random numbers a quick word about probabilities is in order. "
   ]
  },
  {
   "cell_type": "markdown",
   "metadata": {
    "slideshow": {
     "slide_type": "slide"
    }
   },
   "source": [
    "Even though a fast-food chain might advertise a hamburger as weighing a quarter-pound, you can well imagine that it is not exactly 0.25 pounds. \n",
    "\n",
    "One randomly selected hamburger might weigh 0.22 pounds while another might weigh 0.26 pounds.  "
   ]
  },
  {
   "cell_type": "markdown",
   "metadata": {
    "slideshow": {
     "slide_type": "fragment"
    }
   },
   "source": [
    "What is the probability that a randomly selected hamburger weighs between 0.23 and 0.27 pounds? \n",
    "\n",
    "That is, if we let X denote the weight of a randomly selected quarter-pound hamburger in pounds, what is P(0.23 < X < 0.27)?\n",
    "\n",
    "*example courtesy of [Penn State](https://onlinecourses.science.psu.edu/stat414/node/97)"
   ]
  },
  {
   "cell_type": "markdown",
   "metadata": {
    "slideshow": {
     "slide_type": "subslide"
    }
   },
   "source": [
    "You might imagine that it is likely that most of the hamburgers weigh close to 0.25 pounds. Probably very few weigh 0.05 pounds or 0.5 pounds for example. "
   ]
  },
  {
   "cell_type": "markdown",
   "metadata": {
    "slideshow": {
     "slide_type": "fragment"
    }
   },
   "source": [
    "We could buy say 100 hamburgers and create a histogram of their weights:\n",
    "\n",
    "<div align='center'><img src='https://raw.githubusercontent.com/TaraKhodaei/ISC-3313/master/images/100_burger_hist.png' width='50%'/></div>"
   ]
  },
  {
   "cell_type": "markdown",
   "metadata": {
    "slideshow": {
     "slide_type": "subslide"
    }
   },
   "source": [
    "We can take more samples. Let's try to buy 100,000 hamburgers:\n",
    "\n",
    "<div align='center'><img src='https://raw.githubusercontent.com/TaraKhodaei/ISC-3313/master/images/100k_burger_hist.png' width='50%'/></div>"
   ]
  },
  {
   "cell_type": "markdown",
   "metadata": {
    "slideshow": {
     "slide_type": "subslide"
    }
   },
   "source": [
    "We can also refine our histogram, by making the bin sizes smaller.\n",
    "\n",
    "<div align='center'><img src='https://raw.githubusercontent.com/TaraKhodaei/ISC-3313/master/images/100k_burger_hist_bins.png' width='50%'/></div>"
   ]
  },
  {
   "cell_type": "markdown",
   "metadata": {
    "slideshow": {
     "slide_type": "subslide"
    }
   },
   "source": [
    "If we take this the limit, i.e. buying an infinite amount of hamburgers and creating bins with length 0, we get a continuous distribution:\n",
    "\n",
    "<div align='center'><img src='https://raw.githubusercontent.com/TaraKhodaei/ISC-3313/master/images/burger_pdf.png' width='50%'/></div>"
   ]
  },
  {
   "cell_type": "markdown",
   "metadata": {
    "slideshow": {
     "slide_type": "fragment"
    }
   },
   "source": [
    "This is called a *probability density function* (PDF for short). "
   ]
  },
  {
   "cell_type": "markdown",
   "metadata": {
    "slideshow": {
     "slide_type": "subslide"
    }
   },
   "source": [
    "A PDF, $p(x)$ has several properties:\n",
    "1. $p(x)$ is positive everywhere\n",
    "2. the probability that $x$ lies in an interval $[a,b]$ is given by $\\int_a^b p(x)\\text{d}x$\n",
    "3. consequently, the area under all of $p(x)$ is 1, i.e. $\\int_{-\\infty}^{\\infty} p(x)\\text{d}x = 1$"
   ]
  },
  {
   "cell_type": "markdown",
   "metadata": {
    "slideshow": {
     "slide_type": "subslide"
    }
   },
   "source": [
    "We are now ready to answer our hamburger question. What is the probability of buying a hamburger that weights between 0.23 and 0.27 pounds?"
   ]
  },
  {
   "cell_type": "markdown",
   "metadata": {
    "slideshow": {
     "slide_type": "fragment"
    }
   },
   "source": [
    "<div align='center'><img src='https://raw.githubusercontent.com/TaraKhodaei/ISC-3313/master/images/filled_pdf.png' width='50%'/></div>\n",
    "\n",
    "The integral between 0.23 and 0.27 tells us that probability."
   ]
  },
  {
   "cell_type": "markdown",
   "metadata": {
    "slideshow": {
     "slide_type": "subslide"
    }
   },
   "source": [
    "If we know beforehand a formula for the PDF we may be able to do this integral analytically. \n",
    "\n",
    "Otherwise, if the PDF is of a certain type, lookup tables might exist. \n",
    "\n",
    "Failing these two options, we can always compute this integral numerically, for example using Riemann sums."
   ]
  },
  {
   "cell_type": "markdown",
   "metadata": {
    "slideshow": {
     "slide_type": "subslide"
    }
   },
   "source": [
    "It's important to know what a PDF does and does not tell us.\n",
    "\n",
    "A PDF tells us the probablity that a value $x$ lies within a given range. \n",
    "\n",
    "For continuous distributions (like this) it **does not** tell us the probablity of a single value. "
   ]
  },
  {
   "cell_type": "markdown",
   "metadata": {
    "slideshow": {
     "slide_type": "fragment"
    }
   },
   "source": [
    "If we asked what is the probability of getting a hamburger weighing exactly 0.25 pounds, this is not simply $p(0.5)$. \n",
    "\n",
    "In fact the probability of getting a hamburger weighing *exactly* 0.25 pounds is 0. \n",
    "\n",
    "This weight will always be off by at least some small amount. "
   ]
  },
  {
   "cell_type": "markdown",
   "metadata": {
    "slideshow": {
     "slide_type": "subslide"
    }
   },
   "source": [
    "## Mean\n",
    "\n",
    "If you draw a point from a distribution, what is the expected outcome? This number is called the expected value, or the *mean*. \n",
    "\n",
    "The mean for a continuous distribution is defined mathematically as: \n",
    "$$ \\mu = \\int_{-\\infty}^{\\infty} x p(x)\\text{d}x.$$\n",
    "\n",
    "To approximate the mean of a distribution, one way is to draw a large number of points $N$ and then take their average, i.e.:\n",
    "$$ \\mu \\approx \\frac{1}{N}\\sum\\limits_{i=1}^N x_i.$$"
   ]
  },
  {
   "cell_type": "markdown",
   "metadata": {
    "slideshow": {
     "slide_type": "subslide"
    }
   },
   "source": [
    "## Variance\n",
    "\n",
    "The *variance* of a distribution is the expected distance from the mean. \n",
    "\n",
    "For \"peaked\" distributions this is small, while for more \"flat\" distributions this is large. \n",
    "\n",
    "We denote the variance as $\\sigma^2$, where $\\sigma$ is the standard deviation of the distribution."
   ]
  },
  {
   "cell_type": "markdown",
   "metadata": {
    "slideshow": {
     "slide_type": "subslide"
    }
   },
   "source": [
    "For a continuous distribution, the variance is given by:\n",
    "$$ \\sigma^2 = \\int_{-\\infty}^{\\infty} (x-\\mu)^2p(x)\\text{d}x.$$\n",
    "\n",
    "To approximate the variance, one way is again to draw a large number of points $N$ and then compute their average squared distance from the mean, i.e.:\n",
    "$$ \\sigma^2 \\approx \\frac{1}{N} \\sum\\limits_{i=1}^N (x_i - \\mu)^2.$$"
   ]
  },
  {
   "cell_type": "markdown",
   "metadata": {
    "slideshow": {
     "slide_type": "subslide"
    }
   },
   "source": [
    "## Distributions\n",
    "\n",
    "A PDF may be known or unknown before we attempt an experiment. \n",
    "\n",
    "For the hamburger example above, it is in general not known. \n",
    "\n",
    "We will look at the two most common and well known: \n",
    "\n",
    "- uniform random distributions \n",
    "- normal distributions"
   ]
  },
  {
   "cell_type": "markdown",
   "metadata": {
    "slideshow": {
     "slide_type": "subslide"
    }
   },
   "source": [
    "### Uniform distribution\n",
    "\n",
    "A uniform distribution is a distribution over an interval $[a,b]$, such that all values have the same probability of being picked.\n",
    "\n",
    "In other words $p(x)$ is constant over $[a,b]$. \n",
    "\n",
    "Since $p(x)$ must integrate to 1, this means that \n",
    "\n",
    "$$p(x) = \\frac{1}{(b-a)}$$ \n",
    "\n",
    "over the interval.\n",
    "\n"
   ]
  },
  {
   "cell_type": "markdown",
   "metadata": {
    "slideshow": {
     "slide_type": "subslide"
    }
   },
   "source": [
    "<div align='center'><img src='https://raw.githubusercontent.com/TaraKhodaei/ISC-3313/master/images/uniform.png' width='80%'/></div>"
   ]
  },
  {
   "cell_type": "markdown",
   "metadata": {
    "slideshow": {
     "slide_type": "subslide"
    }
   },
   "source": [
    "### Normal Distribution\n",
    "\n",
    "Normal distributions, also known as Gaussian or bell curve, is a very common probabilty distribution. The PDF is given by:\n",
    "\n",
    "$$ p(x) = \\frac{1}{\\sqrt{2\\pi\\sigma^2}}e^{-\\frac{(x - \\mu)^2}{2\\sigma^2}}.$$"
   ]
  },
  {
   "cell_type": "markdown",
   "metadata": {
    "slideshow": {
     "slide_type": "subslide"
    }
   },
   "source": [
    "<div align='center'><img src='https://raw.githubusercontent.com/TaraKhodaei/ISC-3313/master/images/normal.png' width='80%'/></div>"
   ]
  },
  {
   "cell_type": "markdown",
   "metadata": {
    "slideshow": {
     "slide_type": "subslide"
    }
   },
   "source": [
    "A particularily important normal distribution is the standard normal distribution, with $\\mu = 0$ and $\\sigma=1$. This distribution. \n",
    "\n",
    "$$ N(x) = \\frac{1}{\\sqrt{2\\pi}}e^{-\\frac{x^2}{2}}.$$"
   ]
  },
  {
   "cell_type": "markdown",
   "metadata": {
    "slideshow": {
     "slide_type": "slide"
    }
   },
   "source": [
    "## Exercise\n",
    "\n",
    "Assuming that the weight of hamburgers follows a uniform distribution between 0.2 and 0.3 pounds, what is the probability of getting a hamburger weighing between 0.23 and 0.27 pounds? Use a left Riemann sum to compute this probability."
   ]
  },
  {
   "cell_type": "markdown",
   "metadata": {
    "slideshow": {
     "slide_type": "slide"
    }
   },
   "source": [
    "## Exercise\n",
    "\n",
    "Assuming that the weight of hamburgers follows a normal distribution with mean 0.25 and variance 0.0001 (standard deviation of 0.01), what is the probability of getting a hamburger weighing between 0.23 and 0.27 pounds? Use a left Riemann sum to compute this probability.\n",
    "\n",
    "Recall the PDF for a normal distribution:\n",
    "$$ p(x) = \\frac{1}{\\sqrt{2\\pi\\sigma^2}}e^{-\\frac{(x - \\mu)^2}{2\\sigma^2}}.$$"
   ]
  },
  {
   "cell_type": "markdown",
   "metadata": {
    "slideshow": {
     "slide_type": "slide"
    }
   },
   "source": [
    "# Random vs. Pseudo-random\n",
    "\n",
    "There are things in nature which are truly random. For example: \n",
    "* atmospheric noise\n",
    "* qunatum phenomena\n",
    "* stock markets\n",
    "\n",
    "A computer cannot directly create truly random numbers, however it can create sequences of numbers that appear random. \n",
    "\n",
    "These are known an *pseudo-random* numbers."
   ]
  },
  {
   "cell_type": "markdown",
   "metadata": {
    "slideshow": {
     "slide_type": "subslide"
    }
   },
   "source": [
    "A series of pseudo-random numbers is typically determined by a fixed number known as a *seed*. \n",
    "\n",
    "Given the same seed value, the series of pseudo-random numbers is completely determined. "
   ]
  },
  {
   "cell_type": "markdown",
   "metadata": {
    "slideshow": {
     "slide_type": "subslide"
    }
   },
   "source": [
    "For example, a common pseudo-random number generator is called the linear congruential generator (LCG), which uses the recurrence relation:\n",
    "\n",
    "$$ X_{k+1} = \\mod(aX_k + b, m),$$\n",
    "\n",
    "where $a$, $b$ and $m$ are large integers. "
   ]
  },
  {
   "cell_type": "markdown",
   "metadata": {
    "slideshow": {
     "slide_type": "fragment"
    }
   },
   "source": [
    "Once we divide $X_k$ by $m$,  $X_k$ is distributed according to a *uniform random distribution* on the interval [0,1].\n",
    "\n",
    "Common values of $a$, $b$ and $m$ are: $a=1664525$, $b=1013904223$ and $m = 2^{32}$."
   ]
  },
  {
   "cell_type": "markdown",
   "metadata": {
    "slideshow": {
     "slide_type": "subslide"
    }
   },
   "source": [
    "Here is an implementation of an LCG:"
   ]
  },
  {
   "cell_type": "code",
   "execution_count": 3,
   "metadata": {},
   "outputs": [],
   "source": [
    "# initialize seed, a, b and m\n",
    "seed = 0\n",
    "a=1664525\n",
    "b=1013904223\n",
    "m=2**32\n",
    "\n",
    "# N is the number of random numbers\n",
    "N = 1000\n",
    "\n",
    "# initialize list and compute first pseudo-random number from seed\n",
    "X = np.zeros(N)\n",
    "X[0] = (a*seed + b) % m\n",
    "\n",
    "# apply reccurence relation\n",
    "for i, x in enumerate(X[:-1]):\n",
    "    X[i+1] = (a*x + b) % m\n",
    "\n",
    "# divide everything by m to get all numbers in the range [0,1]\n",
    "X /= m"
   ]
  },
  {
   "cell_type": "code",
   "execution_count": 4,
   "metadata": {
    "slideshow": {
     "slide_type": "subslide"
    }
   },
   "outputs": [
    {
     "data": {
      "image/png": "[encoded data removed]",
      "text/plain": [
       "<Figure size 432x288 with 1 Axes>"
      ]
     },
     "metadata": {
      "needs_background": "light"
     },
     "output_type": "display_data"
    }
   ],
   "source": [
    "plt.plot(X, '.');"
   ]
  },
  {
   "cell_type": "markdown",
   "metadata": {
    "slideshow": {
     "slide_type": "subslide"
    }
   },
   "source": [
    "We can do a histogram of the points to see that they are approximately uniformly distributed."
   ]
  },
  {
   "cell_type": "code",
   "execution_count": 5,
   "metadata": {},
   "outputs": [
    {
     "data": {
      "image/png": "[encoded data removed]",
      "text/plain": [
       "<Figure size 432x288 with 1 Axes>"
      ]
     },
     "metadata": {
      "needs_background": "light"
     },
     "output_type": "display_data"
    }
   ],
   "source": [
    "plt.hist(X, bins=25, density=True);"
   ]
  },
  {
   "cell_type": "markdown",
   "metadata": {
    "slideshow": {
     "slide_type": "slide"
    }
   },
   "source": [
    "## Numpy Random Library\n",
    "\n",
    "NumPy implements a random number library under `numpy.random`. \n",
    "\n",
    "The `rand()` function from this library returns a uniform random number on [0,1]."
   ]
  },
  {
   "cell_type": "code",
   "execution_count": 6,
   "metadata": {},
   "outputs": [
    {
     "data": {
      "text/plain": [
       "array([[0.3739932 , 0.00649656],\n",
       "       [0.52772214, 0.20052182],\n",
       "       [0.73296165, 0.52251783],\n",
       "       [0.932061  , 0.53487272],\n",
       "       [0.88108137, 0.71871545],\n",
       "       [0.38649933, 0.09849357],\n",
       "       [0.48760793, 0.98372099],\n",
       "       [0.74605082, 0.73040241],\n",
       "       [0.74343464, 0.0688935 ],\n",
       "       [0.59265094, 0.03092184]])"
      ]
     },
     "execution_count": 6,
     "metadata": {},
     "output_type": "execute_result"
    }
   ],
   "source": [
    "np.random.rand(10,2)"
   ]
  },
  {
   "cell_type": "code",
   "execution_count": 7,
   "metadata": {
    "slideshow": {
     "slide_type": "-"
    }
   },
   "outputs": [
    {
     "data": {
      "text/plain": [
       "0.5265452388369191"
      ]
     },
     "execution_count": 7,
     "metadata": {},
     "output_type": "execute_result"
    }
   ],
   "source": [
    "np.random.rand()"
   ]
  },
  {
   "cell_type": "markdown",
   "metadata": {
    "slideshow": {
     "slide_type": "subslide"
    }
   },
   "source": [
    "The random number generator used by NumPy is the [Mersenne Twister](https://en.wikipedia.org/wiki/Mersenne_Twister) algorithm. \n",
    "\n",
    "Like LCG this is a pseudorandom number from a seeded deterministic algorithm. \n",
    "\n",
    "The seed can be specified using the `random.seed()` function."
   ]
  },
  {
   "cell_type": "code",
   "execution_count": 8,
   "metadata": {
    "slideshow": {
     "slide_type": "fragment"
    }
   },
   "outputs": [
    {
     "data": {
      "text/plain": [
       "array([0.06748528, 0.33494299, 0.36839425, 0.48359485])"
      ]
     },
     "execution_count": 8,
     "metadata": {},
     "output_type": "execute_result"
    }
   ],
   "source": [
    "np.random.seed(1222)\n",
    "np.random.rand(4)"
   ]
  },
  {
   "cell_type": "code",
   "execution_count": 9,
   "metadata": {
    "slideshow": {
     "slide_type": "fragment"
    }
   },
   "outputs": [
    {
     "data": {
      "text/plain": [
       "array([0.37454012, 0.95071431, 0.73199394, 0.59865848])"
      ]
     },
     "execution_count": 9,
     "metadata": {},
     "output_type": "execute_result"
    }
   ],
   "source": [
    "np.random.seed(42)\n",
    "np.random.rand(4)"
   ]
  },
  {
   "cell_type": "markdown",
   "metadata": {
    "slideshow": {
     "slide_type": "subslide"
    }
   },
   "source": [
    "The `normal()` function takes in two parameters, \n",
    "\n",
    "- `loc`: which is the mean  \n",
    "- `scale`: which is the standard deviation \n",
    "\n",
    "Note that an input is the standard deviation $\\sigma$ and not the variance $\\sigma^2$."
   ]
  },
  {
   "cell_type": "code",
   "execution_count": 10,
   "metadata": {},
   "outputs": [
    {
     "name": "stdout",
     "output_type": "stream",
     "text": [
      "0.5316932505533281\n",
      "0.5317260861016389\n"
     ]
    }
   ],
   "source": [
    "x1 = np.random.normal(loc=1,scale=2) # mean is 1 and variance is 2^2 = 4\n",
    "print(x1)\n",
    "\n",
    "x2 = np.random.normal(loc=1,scale=2)\n",
    "print(x2)"
   ]
  },
  {
   "cell_type": "markdown",
   "metadata": {
    "slideshow": {
     "slide_type": "subslide"
    }
   },
   "source": [
    "As with `rand()`, an optional parameter can be input to generate multiple numbers at once."
   ]
  },
  {
   "cell_type": "code",
   "execution_count": 11,
   "metadata": {},
   "outputs": [
    {
     "name": "stdout",
     "output_type": "stream",
     "text": [
      "[[ 4.15842563  2.53486946]\n",
      " [ 0.06105123  2.08512009]\n",
      " [ 0.07316461  0.06854049]\n",
      " [ 1.48392454 -2.82656049]\n",
      " [-2.44983567 -0.12457506]]\n"
     ]
    }
   ],
   "source": [
    "x = np.random.normal(loc=1,scale=2,size=(5, 2))\n",
    "print(x)"
   ]
  },
  {
   "cell_type": "markdown",
   "metadata": {
    "slideshow": {
     "slide_type": "subslide"
    }
   },
   "source": [
    "The `numpy.random` module also includes a function `randint()` that returns a random integer. This function takes in two arguments, $x_1$ and $x_2$ and returns a random integer from the range $x_1$ up to *but not including* $x_2$"
   ]
  },
  {
   "cell_type": "code",
   "execution_count": 12,
   "metadata": {
    "slideshow": {
     "slide_type": "-"
    }
   },
   "outputs": [
    {
     "name": "stdout",
     "output_type": "stream",
     "text": [
      "3\n"
     ]
    }
   ],
   "source": [
    "x = np.random.randint(1,7)\n",
    "print(x)"
   ]
  },
  {
   "cell_type": "markdown",
   "metadata": {
    "slideshow": {
     "slide_type": "subslide"
    }
   },
   "source": [
    "## Exercise\n",
    "\n",
    "- Using the `rand()` function, generate 1000 random numbers and plot a histogram.\n",
    "\n",
    "- Using the `normal()` function, generate 1000 random numbers from the normal distribution with mean 4 and standard deviation 2. Plot a histogram.\n",
    "\n",
    "- Create a histogram of 1000 numbers generated with the `randint()` function in the range 0 to 10. "
   ]
  },
  {
   "cell_type": "markdown",
   "metadata": {
    "slideshow": {
     "slide_type": "slide"
    }
   },
   "source": [
    "# Monte Carlo Simulations\n",
    "\n",
    "Probability theory lets us compute the probablility that a certain event happens. For example, we can compute the probability of rolling two consecutive ones a six sided dice:\n",
    "$$ P(\\text{two consecutive ones}) = P(\\text{one})\\times P(\\text{one}) = \\frac{1}{6}\\times\\frac{1}{6} = \\frac{1}{36}$$"
   ]
  },
  {
   "cell_type": "markdown",
   "metadata": {
    "slideshow": {
     "slide_type": "slide"
    }
   },
   "source": [
    "We can use more complicated rules to compute things like the probability of rolling at least two ones in a five run stretch. Unfortunately, these calculations can become tedious or impossible if the problem becomes too complicated. "
   ]
  },
  {
   "cell_type": "markdown",
   "metadata": {
    "slideshow": {
     "slide_type": "subslide"
    }
   },
   "source": [
    "Monte Carlo simulations are a simple numerical way to compute probabilities. \n",
    "\n",
    "Assume we are performing $N$ experiments where the outcome of each one is random. \n",
    "\n",
    "Some event $A$ takes place $M$ times in these $N$ experiments. \n",
    "\n",
    "We can estimate the probability of the event as:\n",
    "$$ P(A) \\approx \\frac{M}{N}.$$"
   ]
  },
  {
   "cell_type": "markdown",
   "metadata": {
    "slideshow": {
     "slide_type": "subslide"
    }
   },
   "source": [
    "This estimate becomes more accurate as $N$ increases and approaches the actual probability as $N\\to\\infty$. \n",
    "\n",
    "This is known as a Monte Carlo simulation. \n",
    "\n",
    "Monte Carlo methods were developped in the 1940s to help with the nuclear weapons research. \n",
    "\n",
    "They have since found uses throughout science and engineering. "
   ]
  },
  {
   "cell_type": "markdown",
   "metadata": {
    "slideshow": {
     "slide_type": "subslide"
    }
   },
   "source": [
    "## Example: Throwing Dice\n",
    "\n",
    "We'll return to our example from earlier. \n",
    "\n",
    "What is the probability of rolling two consecutive ones on a six sided dice? \n",
    "\n",
    "We know this should be $1/36$."
   ]
  },
  {
   "cell_type": "code",
   "execution_count": 13,
   "metadata": {
    "slideshow": {
     "slide_type": "subslide"
    }
   },
   "outputs": [
    {
     "name": "stdout",
     "output_type": "stream",
     "text": [
      "Actual P: 0.027777777777777776\n",
      "Simulated P: 0.035\n",
      "Simulation error: 0.007222222222222227\n"
     ]
    }
   ],
   "source": [
    "# set N - the number of times we roll 2 dice\n",
    "N = 1000\n",
    "\n",
    "# initialize M to 0\n",
    "M = 0\n",
    "\n",
    "# we know actual probability\n",
    "p_act = 1.0/36\n",
    "\n",
    "for i in range(N):\n",
    "    \n",
    "    r1 = np.random.randint(1,7)\n",
    "    r2 = np.random.randint(1,7)\n",
    "    \n",
    "    if (r1 == 1 and r2 == 1):\n",
    "        M += 1\n",
    "\n",
    "print(\"Actual P:\", p_act)\n",
    "print(\"Simulated P:\", M/N)\n",
    "print(\"Simulation error:\", abs(p_act - M/N))"
   ]
  },
  {
   "cell_type": "markdown",
   "metadata": {
    "slideshow": {
     "slide_type": "subslide"
    }
   },
   "source": [
    "Let's try for various values of $N$:"
   ]
  },
  {
   "cell_type": "code",
   "execution_count": 14,
   "metadata": {},
   "outputs": [
    {
     "name": "stdout",
     "output_type": "stream",
     "text": [
      "[0.0, 0.05, 0.034, 0.0273, 0.02786]\n"
     ]
    }
   ],
   "source": [
    "N = [10, 100, 1000, 10000, 100000]\n",
    "P = []\n",
    "P_err = []\n",
    "\n",
    "# we know actual probability\n",
    "p_act = 1.0/36\n",
    "\n",
    "for n in N:\n",
    "    M = 0\n",
    "    for i in range(n):\n",
    "        r1 = np.random.randint(1,7)\n",
    "        r2 = np.random.randint(1,7)\n",
    "        if (r1 == 1 and r2 == 1):\n",
    "            M += 1       \n",
    "    P.append(M / n)\n",
    "    P_err.append(abs(p_act - M / n))\n",
    "    \n",
    "print(P)"
   ]
  },
  {
   "cell_type": "code",
   "execution_count": 15,
   "metadata": {
    "slideshow": {
     "slide_type": "subslide"
    }
   },
   "outputs": [
    {
     "data": {
      "image/png": "[encoded data removed]",
      "text/plain": [
       "<Figure size 432x288 with 1 Axes>"
      ]
     },
     "metadata": {
      "needs_background": "light"
     },
     "output_type": "display_data"
    }
   ],
   "source": [
    "plt.loglog(N,P_err, '-o');"
   ]
  },
  {
   "cell_type": "markdown",
   "metadata": {
    "slideshow": {
     "slide_type": "subslide"
    }
   },
   "source": [
    "What is the probability of rolling at least two ones in fives throws?"
   ]
  },
  {
   "cell_type": "code",
   "execution_count": 16,
   "metadata": {},
   "outputs": [
    {
     "name": "stdout",
     "output_type": "stream",
     "text": [
      "Simulated P: 0.193\n"
     ]
    }
   ],
   "source": [
    "# set N - the number of times we roll 2 dice\n",
    "N = 1000\n",
    "# initialize M to 0\n",
    "M = 0\n",
    "for i in range(N):\n",
    "    n_ones = 0\n",
    "    # roll 6 dice\n",
    "    for roll in range(5):\n",
    "        r = np.random.randint(1,7)\n",
    "        # check if you rolled a one\n",
    "        if r == 1:\n",
    "            n_ones += 1\n",
    "    # if you rolled at least 2 ones, mark trial as success\n",
    "    if n_ones >= 2:\n",
    "        M += 1\n",
    "\n",
    "print(\"Simulated P:\", M/N)"
   ]
  },
  {
   "cell_type": "markdown",
   "metadata": {
    "slideshow": {
     "slide_type": "slide"
    }
   },
   "source": [
    "## Exercise\n",
    "\n",
    "Imagine we flip a coin 10 times. What is the probability of us getting exactly 8 heads?\n",
    "\n",
    "Run a simulation 10000 times and plot a histogram of the number of heads for each trial."
   ]
  }
 ],
 "metadata": {
  "celltoolbar": "Slideshow",
  "kernelspec": {
   "display_name": "Python 3.8.8 ('base')",
   "language": "python",
   "name": "python3"
  },
  "language_info": {
   "codemirror_mode": {
    "name": "ipython",
    "version": 3
   },
   "file_extension": ".py",
   "mimetype": "text/x-python",
   "name": "python",
   "nbconvert_exporter": "python",
   "pygments_lexer": "ipython3",
   "version": "3.8.8"
  },
  "vscode": {
   "interpreter": {
    "hash": "e09110670e6c667630e41e12cd979b9aa1d79791708d496167df90ca14bf71ee"
   }
  }
 },
 "nbformat": 4,
 "nbformat_minor": 2
}
