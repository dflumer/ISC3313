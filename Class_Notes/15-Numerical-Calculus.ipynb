{
 "cells": [
  {
   "cell_type": "markdown",
   "metadata": {
    "slideshow": {
     "slide_type": "slide"
    }
   },
   "source": [
    "# Numerical Calculus\n",
    "\n",
    "<div align='center'><img src='https://raw.githubusercontent.com/TaraKhodaei/ISC-3313/master/images/newton.gif' width='35%'/></div>"
   ]
  },
  {
   "cell_type": "markdown",
   "metadata": {
    "slideshow": {
     "slide_type": "slide"
    }
   },
   "source": [
    "In science and engineering (and lots of other disciplines), a common task is to evaluate derivatives or integrals. \n",
    "\n",
    "You probably already know how to take the derivative of a function, and how to compute (certain) integrals by hand (analytically). Often however, evaluating these quantities can be challenging or impossible analytically. \n",
    "\n",
    "Using a computer, we can come up with an approximation to these quantities."
   ]
  },
  {
   "cell_type": "markdown",
   "metadata": {
    "slideshow": {
     "slide_type": "slide"
    }
   },
   "source": [
    "# Derivatives\n",
    "\n",
    "In calculus you learn how to take the derivative of a function. For example:\n",
    "\n",
    "- $ \\frac{\\text{d}}{\\text{d}x} x^2 = 2x$\n",
    "\n",
    "- $ \\frac{\\text{d}}{\\text{d}x} \\sin(x) = \\cos(x)$"
   ]
  },
  {
   "cell_type": "markdown",
   "metadata": {
    "slideshow": {
     "slide_type": "fragment"
    }
   },
   "source": [
    "Using the chain rule and product rule, we can compute more complicated derivatives:\n",
    "\n",
    "$$ \\frac{\\text{d}}{\\text{d}x} \\sin(x^2\\cos(e^x)) = ?$$"
   ]
  },
  {
   "cell_type": "markdown",
   "metadata": {
    "slideshow": {
     "slide_type": "subslide"
    }
   },
   "source": [
    "So what's the problem? Using the chain rule and product rule may be cumbersome, but it's possible. "
   ]
  },
  {
   "cell_type": "markdown",
   "metadata": {
    "slideshow": {
     "slide_type": "fragment"
    }
   },
   "source": [
    "Well that's true. But what about a function like this:\n",
    "\n",
    "$$ f(x) = \\prod\\limits_{k=1}^{100} x^k\\left(\\sin\\left(k\\prod\\limits_{m=1}^k xe^{\\cos^{m}(x^2)}\\right)\\right).$$\n",
    "\n",
    "Would you want to take the derivative of that?"
   ]
  },
  {
   "cell_type": "markdown",
   "metadata": {
    "slideshow": {
     "slide_type": "subslide"
    }
   },
   "source": [
    "It turns out that seeing functions like that isn't actually very common in most applications. \n",
    "\n",
    "Most functions you have to deal with can be differentiated by applying the chain rule once or twice. \n",
    "\n",
    "A more common task however, is to compute the derivative of function without being given $f(x)$. "
   ]
  },
  {
   "cell_type": "markdown",
   "metadata": {
    "slideshow": {
     "slide_type": "subslide"
    }
   },
   "source": [
    "Consider a running app that keeps track of the runner's position at discrete time intervals. \n",
    "\n",
    "The data might look like:\n",
    "\n",
    "- time (s): 0, 10, 20, 30, 40\n",
    "- distance (m): 0, 50, 100, 120, 125\n",
    "\n",
    "\n",
    "How fast is the runner running at $t=20$? "
   ]
  },
  {
   "cell_type": "markdown",
   "metadata": {
    "slideshow": {
     "slide_type": "subslide"
    }
   },
   "source": [
    "We know that velocity is the time derivative of the position, i.e. \n",
    "\n",
    "$$v(t) = \\frac{d\\,x(t)}{dt}$$\n",
    "\n",
    "How can we compute this from the data provided by the app?"
   ]
  },
  {
   "cell_type": "markdown",
   "metadata": {
    "slideshow": {
     "slide_type": "slide"
    }
   },
   "source": [
    "## Finite Difference\n",
    " \n",
    "Remember from early calculus when you learned the definition of the derivative. \n",
    "\n",
    "Given a function $y(x)$, the derivative $y'(x)$ is defined by the limit:\n",
    "\n",
    "$$ y'(x) = \\lim\\limits_{\\Delta x\\to 0} \\frac{y(x + \\Delta x) - y(x)}{\\Delta x} $$"
   ]
  },
  {
   "cell_type": "markdown",
   "metadata": {
    "slideshow": {
     "slide_type": "subslide"
    }
   },
   "source": [
    "We can think of this as the limit of the slope of the secant line going through $f(x)$ and $f(x + \\Delta x)$.\n",
    "\n",
    "<div align='center'><img src='https://github.com/lukasbystricky/ISC-3313/blob/master/lectures/chapter2/images/derivative.gif?raw=true/'/></div>"
   ]
  },
  {
   "cell_type": "markdown",
   "metadata": {
    "slideshow": {
     "slide_type": "subslide"
    }
   },
   "source": [
    "The exact definition of a derivative involves the limit which is impossible to compute. \n",
    "\n",
    "If we are willing to sacrifice some accuracy, we can *approximate* the derivative of a function by:\n",
    "\n",
    "$$ f'(x) \\approx \\frac{f(x + \\Delta x) - f(x)}{\\Delta x}.$$"
   ]
  },
  {
   "cell_type": "markdown",
   "metadata": {
    "slideshow": {
     "slide_type": "fragment"
    }
   },
   "source": [
    "For large $\\Delta x$ this might be a bad approximation, but as $\\Delta x$ becomes closer to 0, the approximation becomes better. This is known as *finite difference*. "
   ]
  },
  {
   "cell_type": "markdown",
   "metadata": {
    "slideshow": {
     "slide_type": "subslide"
    }
   },
   "source": [
    "We can use this formula to answer a question from earlier. Given this time vs. distance data, how fast is the runner running at $t=20$?\n",
    "\n",
    "In other words, if we call our distance function $x(t)$, what is $x'(20)$? "
   ]
  },
  {
   "cell_type": "markdown",
   "metadata": {
    "slideshow": {
     "slide_type": "subslide"
    }
   },
   "source": [
    "I always recommend plotting your data"
   ]
  },
  {
   "cell_type": "code",
   "execution_count": 1,
   "metadata": {},
   "outputs": [],
   "source": [
    "%matplotlib inline\n",
    "import numpy as np\n",
    "import matplotlib.pyplot as plt"
   ]
  },
  {
   "cell_type": "code",
   "execution_count": 2,
   "metadata": {
    "slideshow": {
     "slide_type": "subslide"
    }
   },
   "outputs": [
    {
     "data": {
      "image/png": "[encoded data removed]",
      "text/plain": [
       "<Figure size 432x288 with 1 Axes>"
      ]
     },
     "metadata": {
      "needs_background": "light"
     },
     "output_type": "display_data"
    }
   ],
   "source": [
    "t = np.array([0,10,20,30,40])\n",
    "x = np.array([0,50,100,120,125])\n",
    "\n",
    "plt.plot(t,x, \"-o\")\n",
    "plt.xlabel(\"time\") \n",
    "plt.ylabel(\"distance\");"
   ]
  },
  {
   "cell_type": "markdown",
   "metadata": {},
   "source": [
    "The finite difference formula is essentially a calculation of the slope of the line that connects $x(20)$ and $x(30)$. "
   ]
  },
  {
   "cell_type": "code",
   "execution_count": 3,
   "metadata": {
    "slideshow": {
     "slide_type": "subslide"
    }
   },
   "outputs": [
    {
     "data": {
      "image/png": "[encoded data removed]",
      "text/plain": [
       "<Figure size 432x288 with 1 Axes>"
      ]
     },
     "metadata": {
      "needs_background": "light"
     },
     "output_type": "display_data"
    }
   ],
   "source": [
    "plt.plot(t,x, \"-o\",alpha=0.5)\n",
    "plt.plot(t[2:4],x[2:4], \"-or\") \n",
    "plt.plot(t[2], x[2], 'o', color='forestgreen', markersize=10)\n",
    "plt.xlabel(\"time\"); plt.ylabel(\"distance\");"
   ]
  },
  {
   "cell_type": "markdown",
   "metadata": {
    "slideshow": {
     "slide_type": "subslide"
    }
   },
   "source": [
    "From our finite difference formula:\n",
    "$$ x'(20) \\approx \\frac{x(20 + \\Delta t) - x(20)}{\\Delta t}.$$\n",
    "\n",
    "We know $x(20) = 100$. What is $\\Delta t$? "
   ]
  },
  {
   "cell_type": "markdown",
   "metadata": {
    "slideshow": {
     "slide_type": "fragment"
    }
   },
   "source": [
    "From our data we can see that if we take $\\Delta t=10$, we can evaluate $x(20 + \\Delta t) = x(30) = 120$. \n",
    "\n",
    "Plugging this all in:\n",
    "$$ v(20) = x'(20) \\approx \\frac{120 - 100}{10} = 2 \\text{m/s}.$$"
   ]
  },
  {
   "cell_type": "markdown",
   "metadata": {
    "slideshow": {
     "slide_type": "slide"
    }
   },
   "source": [
    "## Exercise\n",
    "\n",
    "Calculate the runners velocity at each data point between $t = [0, 30]$ and store it in a variable $v$. \n",
    "\n",
    "Note that using this scheme we can't calculate the velocity for the final point. \n",
    "\n",
    "Try to make the calculation using numpy operations and slicing instead of loops. "
   ]
  },
  {
   "cell_type": "markdown",
   "metadata": {
    "slideshow": {
     "slide_type": "subslide"
    }
   },
   "source": [
    "The method used here is know as *forward finite difference* because we are using the point $f(t + \\Delta t)$ to approximate the derivative.\n",
    "\n",
    "We can also define a *backward finite difference*:\n",
    "\n",
    "$$ f'(t) \\approx \\frac{f(t) - f(t-\\Delta t)}{\\Delta t}.$$"
   ]
  },
  {
   "cell_type": "markdown",
   "metadata": {
    "slideshow": {
     "slide_type": "fragment"
    }
   },
   "source": [
    "Or a *centered finite difference*:\n",
    "\n",
    "$$ f'(t) \\approx \\frac{f(t + \\Delta t) - f(t -\\Delta t)}{2\\Delta t}$$\n",
    "\n",
    "In fact there are many other finite difference schemes, but we'll limit ourselves to these three."
   ]
  },
  {
   "cell_type": "markdown",
   "metadata": {
    "slideshow": {
     "slide_type": "subslide"
    }
   },
   "source": [
    "We won't go into the details but each finite difference scheme has an error associated with it. \n",
    "\n",
    "Central difference is more accurate than forward/backward difference but there is a problem when calculating the derivatives at the end points, like we saw in the example.\n",
    "\n",
    "- Backward finite difference excludes the initial point\n",
    "- Forward finite difference excludes the final point\n",
    "- Central finite difference excludes both!"
   ]
  },
  {
   "cell_type": "markdown",
   "metadata": {
    "slideshow": {
     "slide_type": "slide"
    }
   },
   "source": [
    "## Exercise\n",
    "\n",
    "Calculate the runners velocity using forward finite difference for $t=0$, central finite difference for $10\\leq t<40$ and backward finite difference for $t=40$. Combine the results into a single numpy array $v$.\n",
    "\n",
    "Make a 2x1 subplot with the runners time vs position on top and the runners time vs velocity on the bottom. "
   ]
  },
  {
   "cell_type": "markdown",
   "metadata": {
    "slideshow": {
     "slide_type": "slide"
    }
   },
   "source": [
    "# Integration\n",
    "\n",
    "The reverse of differentiation is integration. In  many applications we need to integrate a function, i.e.\n",
    "\n",
    "$$\\int_0^{\\pi} \\sin(x)\\text{d}x$$"
   ]
  },
  {
   "cell_type": "markdown",
   "metadata": {
    "slideshow": {
     "slide_type": "fragment"
    }
   },
   "source": [
    "This is easy enough. We know the antiderivative of $\\sin(x)$ is $-\\cos(x)$, so applying the fundamental theorem of calculus gives:\n",
    "$$ \\int_0^{\\pi} \\sin(x)\\text{d}x = -\\cos(\\pi) - (-\\cos(0)) = -(-1) + 1 = 2$$"
   ]
  },
  {
   "cell_type": "markdown",
   "metadata": {
    "slideshow": {
     "slide_type": "subslide"
    }
   },
   "source": [
    "What about the integral\n",
    "$ \\int_0^1 e^{-x^2}\\text{d}x$ ? "
   ]
  },
  {
   "cell_type": "markdown",
   "metadata": {
    "slideshow": {
     "slide_type": "subslide"
    }
   },
   "source": [
    "You may remember from calculus that $e^{-x^2}$ does not have an antiderivative. \n",
    "\n",
    "Unlike differentiation, where finding analytic expressions can be tedious, but is almost always possible, finding an analytic expression for an integral is often not possible. "
   ]
  },
  {
   "cell_type": "markdown",
   "metadata": {
    "slideshow": {
     "slide_type": "fragment"
    }
   },
   "source": [
    "Of course, just because we don't have an antiderivative doesn't mean we don't have an integral. \n",
    "\n",
    "Remember that the integral above is simply \"the area under the curve $y = e^{-x^2}$ from $x=0$ to $x=1$\". \n",
    "\n",
    "This value still exists."
   ]
  },
  {
   "cell_type": "code",
   "execution_count": 4,
   "metadata": {
    "slideshow": {
     "slide_type": "subslide"
    }
   },
   "outputs": [
    {
     "data": {
      "image/png": "[encoded data removed]",
      "text/plain": [
       "<Figure size 432x288 with 1 Axes>"
      ]
     },
     "metadata": {
      "needs_background": "light"
     },
     "output_type": "display_data"
    }
   ],
   "source": [
    "x = np.linspace(-1,2)\n",
    "plt.plot(x, np.exp(-x**2))\n",
    "plt.xlim([-1,2]); plt.ylim([0,1.5]);"
   ]
  },
  {
   "cell_type": "markdown",
   "metadata": {
    "slideshow": {
     "slide_type": "subslide"
    }
   },
   "source": [
    "When you first learned about integrals you probably went over Riemann sums to evaluate $\\int_a^b f(x)\\text{d}x$. "
   ]
  },
  {
   "cell_type": "markdown",
   "metadata": {
    "slideshow": {
     "slide_type": "subslide"
    }
   },
   "source": [
    "Riemann Sums Review:\n",
    "\n",
    "- We begin by breaking up the interval of integration $[a,b]$ into intervals of length $h$. \n",
    "\n",
    "- Then the value of the function at a point $x^*$ in each interval (typically either right endpoint, left endpoint or center) determines a rectangle of height $f(x^*)$ and width $h$. \n",
    "\n",
    "- The integral of $f(x)$ over $[a,b]$ is then approximated by the total area of these rectangles. \n",
    "\n",
    "You'll recall that as $h\\to 0$, this approximation converges to the actual value of the integral. "
   ]
  },
  {
   "cell_type": "markdown",
   "metadata": {
    "slideshow": {
     "slide_type": "subslide"
    }
   },
   "source": [
    "<div align='center'><img src='https://github.com/lukasbystricky/ISC-3313/blob/master/lectures/chapter2/images/left_sum.png?raw=true' width='50%'></div>"
   ]
  },
  {
   "cell_type": "markdown",
   "metadata": {
    "slideshow": {
     "slide_type": "subslide"
    }
   },
   "source": [
    "Mathematically:\n",
    "\n",
    "1) we split the domain $[a,b]$ into $N$ equally spaced intervals of width $h$\n",
    "\n",
    "2) we take a point from each interval to form a set of points $\\{x_1, x_2, \\ldots, x_N\\}$\n",
    "\n",
    "3) $\\int_a^b f(x)\\text{d}x \\approx h\\sum\\limits_{i=1}^N f(x_i)$"
   ]
  },
  {
   "cell_type": "code",
   "execution_count": 5,
   "metadata": {
    "slideshow": {
     "slide_type": "subslide"
    }
   },
   "outputs": [
    {
     "data": {
      "image/png": "[encoded data removed]",
      "text/plain": [
       "<Figure size 432x288 with 1 Axes>"
      ]
     },
     "metadata": {
      "needs_background": "light"
     },
     "output_type": "display_data"
    }
   ],
   "source": [
    "x_rem = [0, 0.25, 0.25, 0.5, 0.5, 0.75, 0.75, 1]\n",
    "y_rem = [np.exp(0), np.exp(0), np.exp(-0.25**2), np.exp(-0.25**2), \\\n",
    "        np.exp(-0.5**2), np.exp(-0.5**2), np.exp(-0.75**2), np.exp(-0.75**2)]\n",
    "plt.fill_between(x_rem, 0, y_rem, facecolor=\"r\", alpha = 0.2)\n",
    "x = np.linspace(0,1,100)\n",
    "plt.plot(x, np.exp(-x**2))\n",
    "plt.title(\"Left Riemann Sum\");"
   ]
  },
  {
   "cell_type": "code",
   "execution_count": 6,
   "metadata": {
    "slideshow": {
     "slide_type": "subslide"
    }
   },
   "outputs": [
    {
     "data": {
      "image/png": "[encoded data removed]",
      "text/plain": [
       "<Figure size 432x288 with 1 Axes>"
      ]
     },
     "metadata": {
      "needs_background": "light"
     },
     "output_type": "display_data"
    }
   ],
   "source": [
    "x_rem = [0, 0.25, 0.25, 0.5, 0.5, 0.75, 0.75, 1]\n",
    "y_rem = [np.exp(-0.25**2), np.exp(-0.25**2), np.exp(-0.5**2), np.exp(-0.5**2), \\\n",
    "        np.exp(-0.75**2), np.exp(-0.75**2), np.exp(-1), np.exp(-1)]\n",
    "plt.fill_between(x_rem, 0, y_rem, facecolor=\"r\", alpha = 0.2)\n",
    "x = np.linspace(0,1,100)\n",
    "plt.plot(x, np.exp(-x**2))\n",
    "plt.title(\"Right Riemann Sum\");"
   ]
  },
  {
   "cell_type": "markdown",
   "metadata": {
    "slideshow": {
     "slide_type": "subslide"
    }
   },
   "source": [
    "In the limit $h\\to 0$ this converges to the actual integral. \n",
    "\n",
    "Of course even if $h$ is not 0, it tells us something about the integral. \n",
    "\n",
    "As with finite differences, if we are willing to accept some error, we can take a non-zero $h$ and get an approximation to the integral. \n",
    "\n",
    "If $N$ is large enough (and consequently $h$ is small enough), this approximation might be quite good."
   ]
  },
  {
   "cell_type": "markdown",
   "metadata": {
    "slideshow": {
     "slide_type": "subslide"
    }
   },
   "source": [
    "Lets look at how we could compute this. \n",
    "\n",
    "As a specific example we'll look at an integral we already know how to compute, and see how accurate we can get. \n",
    "\n",
    "Specifically we'll look at $\\int_0^{\\pi} \\sin(x)\\text{d}x = 2$."
   ]
  },
  {
   "cell_type": "markdown",
   "metadata": {
    "slideshow": {
     "slide_type": "subslide"
    }
   },
   "source": [
    "The first thing we need to do is define the intervals. \n",
    "\n",
    "Say we want $N$ intervals, this means we'll need $N+1$ points and $h = \\pi/N$."
   ]
  },
  {
   "cell_type": "code",
   "execution_count": 7,
   "metadata": {},
   "outputs": [
    {
     "name": "stdout",
     "output_type": "stream",
     "text": [
      "[0.         0.78539816 1.57079633 2.35619449 3.14159265]\n"
     ]
    }
   ],
   "source": [
    "N = 4\n",
    "a = 0\n",
    "b = np.pi\n",
    "h = (b - a)/N\n",
    "x = np.linspace(a, b, N + 1) # N intervals -> N + 1 points\n",
    "print(x)"
   ]
  },
  {
   "cell_type": "markdown",
   "metadata": {
    "slideshow": {
     "slide_type": "subslide"
    }
   },
   "source": [
    "Lets do the left Riemann sum. \n",
    "\n",
    "This means that we need the left endpoint of each interval. In our case this will be the points $\\{0, \\pi/4, \\pi/2, 3\\pi/4\\}$, or all points except the last one. "
   ]
  },
  {
   "cell_type": "code",
   "execution_count": 8,
   "metadata": {},
   "outputs": [
    {
     "name": "stdout",
     "output_type": "stream",
     "text": [
      "[0.         0.78539816 1.57079633 2.35619449]\n"
     ]
    }
   ],
   "source": [
    "print(x[:-1])"
   ]
  },
  {
   "cell_type": "markdown",
   "metadata": {
    "slideshow": {
     "slide_type": "subslide"
    }
   },
   "source": [
    "We now need to plug these values into our function, sum the function values up and multiply by $h$. "
   ]
  },
  {
   "cell_type": "code",
   "execution_count": 9,
   "metadata": {},
   "outputs": [
    {
     "name": "stdout",
     "output_type": "stream",
     "text": [
      "error =  0.1038811020629602\n"
     ]
    }
   ],
   "source": [
    "I = np.sum(np.sin(x[:-1]))*h\n",
    "print(\"error = \", abs(I - 2))"
   ]
  },
  {
   "cell_type": "markdown",
   "metadata": {
    "slideshow": {
     "slide_type": "subslide"
    }
   },
   "source": [
    "This isn't bad, but it's still off by about 5%. What happens if instead of 5 points we use 100 points?"
   ]
  },
  {
   "cell_type": "code",
   "execution_count": 10,
   "metadata": {},
   "outputs": [
    {
     "name": "stdout",
     "output_type": "stream",
     "text": [
      "error =  0.0001644961125564226\n"
     ]
    }
   ],
   "source": [
    "N = 100\n",
    "a = 0\n",
    "b = np.pi\n",
    "h = (b - a)/N\n",
    "x = np.linspace(a, b, N + 1)\n",
    "I = np.sum(np.sin(x[:-1]))*h\n",
    "print(\"error = \", abs(I - 2))"
   ]
  },
  {
   "cell_type": "markdown",
   "metadata": {
    "slideshow": {
     "slide_type": "subslide"
    }
   },
   "source": [
    "## Exercise\n",
    "\n",
    "Use the right Riemann sum with 25, 50 and 100 intervals to evaluate the integral\n",
    "\n",
    "$$ \\int_0^{10} \\sin(x)^2\\text{d}x.$$\n",
    "\n",
    "The exact value is $5 - \\sin(20)/4$.\n",
    "\n",
    "- Plot the errors against the number of intervals.\n",
    "\n",
    "- Try creating a function called `right_riemann` which takes parameters, `f` for an arbitrary function, `N` for the number of points and `a` and `b` for the end points. \n",
    "\n",
    "Test out your function on the $\\int_0^{\\pi} \\sin(x)$ example from earlier."
   ]
  }
 ],
 "metadata": {
  "celltoolbar": "Slideshow",
  "kernelspec": {
   "display_name": "Python 3.8.8 ('base')",
   "language": "python",
   "name": "python3"
  },
  "language_info": {
   "codemirror_mode": {
    "name": "ipython",
    "version": 3
   },
   "file_extension": ".py",
   "mimetype": "text/x-python",
   "name": "python",
   "nbconvert_exporter": "python",
   "pygments_lexer": "ipython3",
   "version": "3.8.8"
  },
  "vscode": {
   "interpreter": {
    "hash": "e09110670e6c667630e41e12cd979b9aa1d79791708d496167df90ca14bf71ee"
   }
  }
 },
 "nbformat": 4,
 "nbformat_minor": 2
}
