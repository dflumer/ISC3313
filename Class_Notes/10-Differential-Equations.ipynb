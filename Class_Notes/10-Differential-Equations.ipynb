{
 "cells": [
  {
   "cell_type": "markdown",
   "metadata": {
    "slideshow": {
     "slide_type": "slide"
    }
   },
   "source": [
    "# Ordinary Differential Equations\n",
    "\n",
    "<div align=\"center\"><img src=\"https://raw.githubusercontent.com/TaraKhodaei/ISC-3313/master/images/amazon.gif\" width=\"40%\" /></div>"
   ]
  },
  {
   "cell_type": "markdown",
   "metadata": {
    "slideshow": {
     "slide_type": "slide"
    }
   },
   "source": [
    "Differential equations are an invaluable way to model a wide range of scientific and engineering problems. \n",
    "\n",
    "They can describe everything from predator-prey relationships to how heat travels throughout a room to how fast a rocket moves as it burns fuel."
   ]
  },
  {
   "cell_type": "code",
   "execution_count": 1,
   "metadata": {
    "slideshow": {
     "slide_type": "subslide"
    }
   },
   "outputs": [
    {
     "data": {
      "text/html": [
       "<div align=\"middle\">\n",
       "<video width=\"80%\" controls>\n",
       "      <source src=\"https://github.com/TaraKhodaei/ISC-3313/raw/master/images/lorenz.mp4\" type=\"video/mp4\">\n",
       "</video></div>\n"
      ],
      "text/plain": [
       "<IPython.core.display.HTML object>"
      ]
     },
     "metadata": {},
     "output_type": "display_data"
    }
   ],
   "source": [
    "%%HTML\n",
    "<div align=\"middle\">\n",
    "<video width=\"80%\" controls>\n",
    "      <source src=\"https://github.com/TaraKhodaei/ISC-3313/raw/master/images/lorenz.mp4\" type=\"video/mp4\">\n",
    "</video></div>"
   ]
  },
  {
   "cell_type": "markdown",
   "metadata": {
    "slideshow": {
     "slide_type": "slide"
    }
   },
   "source": [
    "Before we look at specific applications, we should state exactly what a differential equation is. \n",
    "\n",
    "A **differential equation** is an equation for an unknown function $y$ that contains dervivatives of $y$. "
   ]
  },
  {
   "cell_type": "markdown",
   "metadata": {
    "slideshow": {
     "slide_type": "slide"
    }
   },
   "source": [
    "We will limit ourselves to *ordinary differential equations* (ODEs) where $y$ is a function of one variable. Specifcally we will look at *initial value problems*. \n",
    "\n",
    "In this case we will be given an initial state of a variable and we will be interested in how it evolves in time."
   ]
  },
  {
   "cell_type": "markdown",
   "metadata": {
    "slideshow": {
     "slide_type": "subslide"
    }
   },
   "source": [
    "For example, an ODE we might be interested in is:\n",
    "\n",
    "\\begin{align*}\n",
    "    y'(t) &= t^2 y,\\\\\n",
    "    y(0) &= 1.\n",
    "  \\end{align*}\n",
    "  \n",
    "The function $y$ (and its derivative $y'(t)$) are unknown, however we know how they are related. "
   ]
  },
  {
   "cell_type": "markdown",
   "metadata": {
    "slideshow": {
     "slide_type": "subslide"
    }
   },
   "source": [
    "The second equation $y(0)=1$ is called the *initial condition*. \n",
    "\n",
    "We will be interested in the behavior of $y$ as a function of $t$ from $t=0$ to $t=T$. \n",
    "\n",
    "$T$ is called the *time horizon*. \n",
    "\n",
    "Every ODE must come with an initial condition (or boundary conditions) in order to have a unique solution."
   ]
  },
  {
   "cell_type": "markdown",
   "metadata": {
    "slideshow": {
     "slide_type": "subslide"
    }
   },
   "source": [
    "To understand why, it may be helpful to look at an analytic solution of this ODE. We can write the ODE in the form:\n",
    "$$ \\frac{\\text{d}y}{\\text{d}t} = t^2 y.$$\n",
    "\n",
    "Lets move all the terms involving $y$ to the left hand side and all the terms invovling $t$ to the right hand side.\n",
    "\n",
    "$$ \\frac{\\text{d}y}{y} = t^2\\text{d}t.$$"
   ]
  },
  {
   "cell_type": "markdown",
   "metadata": {
    "slideshow": {
     "slide_type": "subslide"
    }
   },
   "source": [
    "This technique is called *separation of variables* and is the simplest technique to attempt to solve an ODE. At this point we can integrate both sides:\n",
    "\n",
    "\\begin{align*}\n",
    "    \\int \\frac{\\text{d}y}{y} &= \\int t^2 \\text{d}t,\\\\\n",
    "    \\Rightarrow\\ln |y| &= \\frac{t^3}{3} + C.\n",
    "\\end{align*}\n",
    "\n",
    "Where $C$ is an arbitrary constant coming from doing the indefinite integrals. Using the properties of logarithms we can solve for $y(t)$. \n",
    "\n",
    "$$ y(t) = Ce^{t^3/3}.$$"
   ]
  },
  {
   "cell_type": "markdown",
   "metadata": {
    "slideshow": {
     "slide_type": "subslide"
    }
   },
   "source": [
    "At this point we're almost done, however we still have an arbitrary constant as part of our solution. Here we where we make use of the initial condition to solve for $C$.\n",
    "\n",
    "$$ y(0) = 1 \\Rightarrow y(0) = 1 = Ce^{0} \\Rightarrow C = 1.$$\n",
    "\n",
    "Thus our solution to the ODE is\n",
    "$$ y(t) = e^{t^3/3}.$$"
   ]
  },
  {
   "cell_type": "markdown",
   "metadata": {
    "slideshow": {
     "slide_type": "subslide"
    }
   },
   "source": [
    "In this class you will not be expected to solve ODEs analytically. In general solving ODEs in this manner is tedious, if not impossible. For example consider the ODE:\n",
    "\n",
    "\\begin{align*}\n",
    "    y'(t) &= \\sin(t)t^2e^{t^2},\\\\\n",
    "    y(0) &=1.\n",
    "\\end{align*}\n",
    "\n",
    "This ODE does not have an analytic solution. Thus we must turn to computers to find an approximate solution."
   ]
  },
  {
   "cell_type": "markdown",
   "metadata": {
    "slideshow": {
     "slide_type": "subslide"
    }
   },
   "source": [
    "The general ODE takes the form:\n",
    "$$\\begin{align*}\n",
    "    y'(t) &= f(y,t),\\\\\n",
    "    y(0) &=a.\n",
    "\\end{align*}$$\n",
    "\n",
    "There are many ways to approximate solutions to ODEs on a computer. We will look at the simplest and oldest method."
   ]
  },
  {
   "cell_type": "markdown",
   "metadata": {
    "slideshow": {
     "slide_type": "subslide"
    }
   },
   "source": [
    "# Forward Euler\n",
    "\n",
    "The *forward Euler method* simply replaces the derivative by a forward finite difference scheme.\n",
    "\n",
    "Mathematically this looks like:\n",
    "$$ \\frac{y(t + \\Delta t) - y(t)}{\\Delta t} \\approx f(y(t),t).$$"
   ]
  },
  {
   "cell_type": "markdown",
   "metadata": {
    "slideshow": {
     "slide_type": "subslide"
    }
   },
   "source": [
    "Note that we can solve this equation for $y(t+\\Delta t)$\n",
    "\n",
    "\\begin{align*}\n",
    "\\frac{y(t + \\Delta t) - y(t)}{\\Delta t} &\\approx f(y(t),t)\\\\\n",
    "y(t + \\Delta t) - y(t)& \\approx \\Delta t \\cdot f(y(t),t) \\\\\n",
    "y(t + \\Delta t)& \\approx y(t) + \\Delta t \\cdot f(y(t),t)\n",
    "\\end{align*}\n",
    "\n",
    "This give us an expression for the next time step in terms of only the current time step. "
   ]
  },
  {
   "cell_type": "markdown",
   "metadata": {
    "slideshow": {
     "slide_type": "subslide"
    }
   },
   "source": [
    "We begin by splitting our time interval $[0,T]$ into $N$ equal intervals of length $\\Delta t$ to get a series of time steps $t_0, t_1, \\dots, t_N$. \n",
    "\n",
    "We call $\\Delta t$ the time step size."
   ]
  },
  {
   "cell_type": "markdown",
   "metadata": {
    "slideshow": {
     "slide_type": "subslide"
    }
   },
   "source": [
    "Starting from the initial condition $Y_0 = y(0)$, we construct a sequence $Y_1, Y_2, \\dots$ such that:\n",
    "\n",
    "$$ Y_{k+1} = Y_k + \\Delta t f(Y_k, k\\Delta t).$$\n",
    "\n",
    "Note that $Y_k \\approx y(k\\Delta t)$. \n",
    "\n",
    "We have essentially turned our ODE into a reccurence relation."
   ]
  },
  {
   "cell_type": "markdown",
   "metadata": {
    "slideshow": {
     "slide_type": "subslide"
    }
   },
   "source": [
    "For example, let's look at the ODE:\n",
    "\n",
    "$$\\begin{align*}\n",
    "    y'(t) &= y\\sin(t)t^2 e^{-t^2}\\\\\n",
    "    y(0) &= 1\n",
    "\\end{align*}$$\n",
    "\n",
    "So we have $Y_0 = y(0) = 1$. We can construct $Y_1$:\n",
    "$$ Y_1 = Y_0 + \\Delta t Y_0\\sin(t_0)t_0^2 e^{-t_0^2}.$$\n",
    "\n",
    "From $Y_1$ we can construct $Y_2$ and so on..."
   ]
  },
  {
   "cell_type": "markdown",
   "metadata": {
    "slideshow": {
     "slide_type": "subslide"
    }
   },
   "source": [
    "An implementation would look like this:"
   ]
  },
  {
   "cell_type": "code",
   "execution_count": 2,
   "metadata": {},
   "outputs": [],
   "source": [
    "import numpy as np\n",
    "\n",
    "# define time horizon and number of intervals\n",
    "T = 10\n",
    "N = 100\n",
    "dt = T/N\n",
    "\n",
    "t = np.linspace(0,T,N+1)\n",
    "y0 = 1\n",
    "\n",
    "# construct a list to contain y values at each time step, append initial condition\n",
    "y = []\n",
    "y.append(y0)\n",
    "\n",
    "for i in range(1,N + 1):\n",
    "    y.append(y[i-1] + dt*(y[i-1]*np.sin(t[i-1])*t[i-1]**2*np.exp(-t[i-1]**2)))\n"
   ]
  },
  {
   "cell_type": "markdown",
   "metadata": {
    "slideshow": {
     "slide_type": "subslide"
    }
   },
   "source": [
    "We can plot $y(t)$."
   ]
  },
  {
   "cell_type": "code",
   "execution_count": 3,
   "metadata": {},
   "outputs": [
    {
     "data": {
      "text/plain": [
       "Text(0, 0.5, 'y(t)')"
      ]
     },
     "execution_count": 3,
     "metadata": {},
     "output_type": "execute_result"
    },
    {
     "data": {
      "image/png": "[encoded data removed]",
      "text/plain": [
       "<Figure size 432x288 with 1 Axes>"
      ]
     },
     "metadata": {
      "needs_background": "light"
     },
     "output_type": "display_data"
    }
   ],
   "source": [
    "import matplotlib.pyplot as plt\n",
    "\n",
    "plt.plot(t,y)\n",
    "plt.xlabel(\"t\")\n",
    "plt.ylabel(\"y(t)\")"
   ]
  },
  {
   "cell_type": "markdown",
   "metadata": {
    "slideshow": {
     "slide_type": "subslide"
    }
   },
   "source": [
    "## Exercise\n",
    "\n",
    "Use forward Euler to evaluate the ODE:\n",
    "$$\\begin{align*}\n",
    "    y'(t) &= \\cos(y t)\\\\\n",
    "    y(0) &= 0\n",
    "\\end{align*}$$\n",
    "\n",
    "for $t$ between 0 and 5. Use $N = 50$."
   ]
  },
  {
   "cell_type": "markdown",
   "metadata": {
    "slideshow": {
     "slide_type": "slide"
    }
   },
   "source": [
    "# Systems of ODEs\n",
    "\n",
    "Consider the system of ODEs:\n",
    "$$\\begin{align*}\n",
    "    x'(t) &= \\frac{2}{3}x - \\frac{4}{3}xy\\\\\n",
    "    y'(t) &= xy - y\\\\\n",
    "    x(0) &= a, \\qquad y(0) = b\n",
    "\\end{align*}$$\n",
    "\n",
    "This is called the *Lotka-Volerra equations*. They are used to model predator-prey relations. We call $x$ the number of prey (e.g. rabbits) and $y$ the number or predators (e.g. foxes)."
   ]
  },
  {
   "cell_type": "markdown",
   "metadata": {
    "slideshow": {
     "slide_type": "subslide"
    }
   },
   "source": [
    "Applying forward Euler to a system of equations is no different than applying it to a single equation. We just now have two lists we have to keep track of: one for x and another for y."
   ]
  },
  {
   "cell_type": "code",
   "execution_count": 4,
   "metadata": {
    "slideshow": {
     "slide_type": "subslide"
    }
   },
   "outputs": [],
   "source": [
    "# define time horizon and number of intervals\n",
    "T = 50\n",
    "N = 50000\n",
    "dt = T/N\n",
    "\n",
    "t = np.linspace(0,T,N+1)\n",
    "x0 = 1\n",
    "y0 = 1\n",
    "\n",
    "# constructs a list to contain x and y values at each time step, append initial condition\n",
    "x = []\n",
    "y = []\n",
    "x.append(x0)\n",
    "y.append(y0)\n",
    "\n",
    "for i in range(1,N+1):\n",
    "    x.append(x[i-1] + dt*(2/3*x[i-1] - 4/3*x[i-1]*y[i-1]))\n",
    "    y.append(y[i-1] + dt*(x[i-1]*y[i-1] - y[i-1]))\n",
    "    \n"
   ]
  },
  {
   "cell_type": "code",
   "execution_count": 5,
   "metadata": {
    "slideshow": {
     "slide_type": "subslide"
    }
   },
   "outputs": [
    {
     "data": {
      "text/plain": [
       "<matplotlib.legend.Legend at 0x10bf0d080>"
      ]
     },
     "execution_count": 5,
     "metadata": {},
     "output_type": "execute_result"
    },
    {
     "data": {
      "image/png": "[encoded data removed]",
      "text/plain": [
       "<Figure size 432x288 with 1 Axes>"
      ]
     },
     "metadata": {
      "needs_background": "light"
     },
     "output_type": "display_data"
    }
   ],
   "source": [
    "plt.plot(t,x)\n",
    "plt.plot(t,y)\n",
    "plt.xlabel(\"time\")\n",
    "plt.legend([\"prey\",\"predators\"])"
   ]
  },
  {
   "cell_type": "markdown",
   "metadata": {
    "slideshow": {
     "slide_type": "subslide"
    }
   },
   "source": [
    "*Phase plots* plot the variables in the system against each other. "
   ]
  },
  {
   "cell_type": "code",
   "execution_count": 6,
   "metadata": {
    "slideshow": {
     "slide_type": "-"
    }
   },
   "outputs": [
    {
     "data": {
      "text/plain": [
       "Text(0, 0.5, 'predators')"
      ]
     },
     "execution_count": 6,
     "metadata": {},
     "output_type": "execute_result"
    },
    {
     "data": {
      "image/png": "[encoded data removed]",
      "text/plain": [
       "<Figure size 432x288 with 1 Axes>"
      ]
     },
     "metadata": {
      "needs_background": "light"
     },
     "output_type": "display_data"
    }
   ],
   "source": [
    "plt.plot(x,y)\n",
    "plt.xlabel(\"prey\")\n",
    "plt.ylabel(\"predators\")"
   ]
  },
  {
   "cell_type": "markdown",
   "metadata": {
    "slideshow": {
     "slide_type": "subslide"
    }
   },
   "source": [
    "For more information about this model I recommend reading [\"Predator and Prey\" by Mike Bostock](https://beta.observablehq.com/@mbostock/predator-and-prey)"
   ]
  },
  {
   "cell_type": "markdown",
   "metadata": {
    "slideshow": {
     "slide_type": "subslide"
    }
   },
   "source": [
    "## Exercise\n",
    "\n",
    "Use forward Euler to evaulate the following system of ODEs:\n",
    "$$\\begin{align*}\n",
    "    x'(t) &= x(1.5 - x - 0.5y)\\\\\n",
    "    y'(t) &= y(2 - y -0.75x)\\\\\n",
    "    x(0) &= 1,\\qquad y(0)=1\n",
    "\\end{align*}$$\n",
    "for $t$ between 0 and 30, and $N=3000$."
   ]
  },
  {
   "cell_type": "markdown",
   "metadata": {
    "slideshow": {
     "slide_type": "slide"
    }
   },
   "source": [
    "# Forward Euler as a function\n",
    "\n",
    "We would like to code up forward Euler as a function. Ideally this function would be able to evaluate any ODE. It would need to take in as parameters:\n",
    "* $f(y,t)$\n",
    "* $y_0$\n",
    "* $T$\n",
    "* $\\Delta t$ or $N$"
   ]
  },
  {
   "cell_type": "markdown",
   "metadata": {
    "slideshow": {
     "slide_type": "subslide"
    }
   },
   "source": [
    "The first step to generalizing our code is to look at what we are trying to do. \n",
    "\n",
    "The forward Euler method starts from an initial condition $y_0$ and from that generates $y_1$. From $y_2$ it generates $y_3$ and so on up until $y_N$. \n",
    "\n",
    "The method to generate a new $y$ from an old one is always the same. This could be turned in a function `forward_euler_step()`."
   ]
  },
  {
   "cell_type": "code",
   "execution_count": 7,
   "metadata": {
    "slideshow": {
     "slide_type": "-"
    }
   },
   "outputs": [],
   "source": [
    "def forward_euler_step(f, y, t, dt):\n",
    "\n",
    "    return y + dt*f(y,t)\n"
   ]
  },
  {
   "cell_type": "markdown",
   "metadata": {
    "slideshow": {
     "slide_type": "subslide"
    }
   },
   "source": [
    "The `forward_euler()` function then simply loops over all the time steps and appends the result of `forward_euler_step()` to a list."
   ]
  },
  {
   "cell_type": "code",
   "execution_count": 8,
   "metadata": {
    "slideshow": {
     "slide_type": "-"
    }
   },
   "outputs": [],
   "source": [
    "def forward_euler(f, y0, T, N):\n",
    "    \n",
    "    # split time into intervals\n",
    "    t = np.linspace(0,T,N+1)\n",
    "    dt = T/N\n",
    "    \n",
    "    y = []\n",
    "    y.append(y0)\n",
    "    \n",
    "    for i in range(1,N+1):\n",
    "\n",
    "        y.append(forward_euler_step(f, y[i-1], t[i-1], dt))\n",
    "        \n",
    "    return (t,y)"
   ]
  },
  {
   "cell_type": "markdown",
   "metadata": {
    "slideshow": {
     "slide_type": "subslide"
    }
   },
   "source": [
    "Consider an example from earlier.\n",
    "\n",
    "$$\\begin{align*}\n",
    "    y'(t) &= y\\sin(t)t^2 e^{-t^2}\\\\\n",
    "    y(0) &= 1\n",
    "\\end{align*}$$"
   ]
  },
  {
   "cell_type": "code",
   "execution_count": 9,
   "metadata": {
    "slideshow": {
     "slide_type": "subslide"
    }
   },
   "outputs": [
    {
     "data": {
      "text/plain": [
       "[<matplotlib.lines.Line2D at 0x11ee7cc18>]"
      ]
     },
     "execution_count": 9,
     "metadata": {},
     "output_type": "execute_result"
    },
    {
     "data": {
      "image/png": "[encoded data removed]",
      "text/plain": [
       "<Figure size 432x288 with 1 Axes>"
      ]
     },
     "metadata": {
      "needs_background": "light"
     },
     "output_type": "display_data"
    }
   ],
   "source": [
    "f = lambda y,t : y*np.sin(t)*t**2*np.exp(-t**2)\n",
    "y0 = 1\n",
    "T = 10\n",
    "N = 100\n",
    "\n",
    "(t,y) = forward_euler(f, y0, T, N)\n",
    "\n",
    "plt.plot(t,y)"
   ]
  },
  {
   "cell_type": "markdown",
   "metadata": {
    "slideshow": {
     "slide_type": "subslide"
    }
   },
   "source": [
    "What about systems? \n",
    "\n",
    "It turns out that if we define `f` properly our forward Euler code can handle systems without any modifications!"
   ]
  },
  {
   "cell_type": "markdown",
   "metadata": {
    "slideshow": {
     "slide_type": "subslide"
    }
   },
   "source": [
    "The function `f` still needs to take is two parameters, `y` and `t`. Note that `y` does not have to be a scalar, nor does `f` have to return a scalar. \n",
    "\n",
    "Let's assume that `y` is an array, i.e. `y[0]` is x, `y[1]` is y etc. We will also return an array corresponding to the right hand sides of ODE."
   ]
  },
  {
   "cell_type": "markdown",
   "metadata": {
    "slideshow": {
     "slide_type": "subslide"
    }
   },
   "source": [
    "Let's look at another example from earlier. Recall the Lotka-Volerra equations:\n",
    "$$\\begin{align*}\n",
    "    x'(t) &= \\frac{2}{3}x - \\frac{4}{3}xy\\\\\n",
    "    y'(t) &= xy - y\\\\\n",
    "    x(0) &= 1, \\qquad y(0) = 1\n",
    "\\end{align*}$$\n"
   ]
  },
  {
   "cell_type": "code",
   "execution_count": 10,
   "metadata": {
    "slideshow": {
     "slide_type": "-"
    }
   },
   "outputs": [],
   "source": [
    "f = lambda y,t : np.array([2/3*y[0] - 4/3*y[0]*y[1], y[0]*y[1] - y[1]])\n",
    "y0 = np.array([1,1]) #initial condition is also an array\n",
    "T = 50\n",
    "N = 50000\n",
    "\n",
    "(t,y) = forward_euler(f, y0, T, N)"
   ]
  },
  {
   "cell_type": "markdown",
   "metadata": {
    "slideshow": {
     "slide_type": "subslide"
    }
   },
   "source": [
    "The only problem here is that `y` is actually a list of arrays. In order to plot everything, we'd like `y` to be a two-dimensional array. "
   ]
  },
  {
   "cell_type": "code",
   "execution_count": 11,
   "metadata": {
    "slideshow": {
     "slide_type": "-"
    }
   },
   "outputs": [
    {
     "data": {
      "text/plain": [
       "<matplotlib.legend.Legend at 0x11f436198>"
      ]
     },
     "execution_count": 11,
     "metadata": {},
     "output_type": "execute_result"
    },
    {
     "data": {
      "image/png": "[encoded data removed]",
      "text/plain": [
       "<Figure size 432x288 with 1 Axes>"
      ]
     },
     "metadata": {
      "needs_background": "light"
     },
     "output_type": "display_data"
    }
   ],
   "source": [
    "y = np.array(y)\n",
    "plt.plot(t,y[:,0])\n",
    "plt.plot(t,y[:,1])\n",
    "plt.legend([\"prey\", \"predators\"])"
   ]
  },
  {
   "cell_type": "markdown",
   "metadata": {
    "slideshow": {
     "slide_type": "subslide"
    }
   },
   "source": [
    "## Exercise\n",
    "\n",
    "The Lorenz equations are given by:\n",
    "$$\\begin{align*}\n",
    "x'(t) &= \\sigma (y - x)\\\\\n",
    "y'(t) &= x(\\rho - z) - y\\\\\n",
    "z'(t) &= xy - \\beta z\n",
    "\\end{align*}$$\n",
    "where $\\sigma$, $\\rho$ and $\\beta$ are constants. \n",
    "\n",
    "Using the code above, solve the Lorenz equations from $t=0$ to $t=100$ with $N=10000$, starting from $x_0=0$, $y_0=1$ and $z_0=1$. Take $\\sigma=10$, $\\beta=8/3$ and $\\rho=28$.\n",
    "\n",
    "Do a phase plot of $x$ vs $z$."
   ]
  }
 ],
 "metadata": {
  "anaconda-cloud": {},
  "celltoolbar": "Slideshow",
  "kernelspec": {
   "display_name": "Python 3.8.8 ('base')",
   "language": "python",
   "name": "python3"
  },
  "language_info": {
   "codemirror_mode": {
    "name": "ipython",
    "version": 3
   },
   "file_extension": ".py",
   "mimetype": "text/x-python",
   "name": "python",
   "nbconvert_exporter": "python",
   "pygments_lexer": "ipython3",
   "version": "3.8.8"
  },
  "vscode": {
   "interpreter": {
    "hash": "e09110670e6c667630e41e12cd979b9aa1d79791708d496167df90ca14bf71ee"
   }
  }
 },
 "nbformat": 4,
 "nbformat_minor": 2
}
