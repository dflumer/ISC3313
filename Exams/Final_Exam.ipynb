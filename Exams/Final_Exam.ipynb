{
 "cells": [
  {
   "cell_type": "markdown",
   "id": "67a39830",
   "metadata": {},
   "source": [
    "## <center> $\\text{ISC 3313: Introduction to Scientific Computing}$\n",
    "\n",
    "## <center> $\\color{deeppink}{\\text{Final Exam}}$       \n",
    "<center><b>July 23-24, 2021  (08:00 – 08:00 AM)</b></center>\n",
    "    \n",
    "***\n",
    "- This is an open notes, open internet exam.\n",
    "- You  may  not  communicate  or  collaborate  with  any  other  person  (talk,  email,  chat etc.)  throughout the duration of this exam.\n",
    "- Upload all your answers in Jupyter notebook ( if possible, upload a pdf/HTML of your answers as well ) via Canvas.\n",
    "- No credit aftre the due date.\n",
    "- **Scores** :\n",
    "| Question1 | Question2 | Question3 | Question4 | Total |\n",
    "| --- | --- | --- | --- | --- |\n",
    "| 25 | 25 | 25 | 25 | 100 |\n",
    "***"
   ]
  },
  {
   "cell_type": "code",
   "execution_count": 1,
   "id": "ccf11bdb",
   "metadata": {},
   "outputs": [],
   "source": [
    "import numpy as np \n",
    "import matplotlib.pyplot as plt\n",
    "from scipy.integrate import odeint"
   ]
  },
  {
   "cell_type": "markdown",
   "id": "844ede14",
   "metadata": {},
   "source": [
    "## $\\color{deeppink}{\\text{Question 1: }}$  "
   ]
  },
  {
   "cell_type": "markdown",
   "id": "ffc3e45e",
   "metadata": {},
   "source": [
    "**3d Surface Plot & Conturf Plot**\n",
    "\n",
    "Consider following 2D function:\n",
    "\n",
    "$$\n",
    "f(x , y) = \\frac{sin(x^2+y^2)}{x^2 + y^2 +3}\n",
    "$$\n",
    "\n",
    "- Create a **3d surface plot** of the function on the domain  $x , y =[−3,3]$.  Add a color bar and choose your own color map. Change the viewing angle.\n",
    "- Create a **filled contour plot** of the function. Add a color bar and choose your own color map."
   ]
  },
  {
   "cell_type": "markdown",
   "id": "b0b712ad",
   "metadata": {},
   "source": [
    "### Answer:"
   ]
  },
  {
   "cell_type": "code",
   "execution_count": null,
   "id": "d306b9d6",
   "metadata": {},
   "outputs": [],
   "source": []
  },
  {
   "cell_type": "markdown",
   "id": "247d1f60",
   "metadata": {},
   "source": [
    "## $\\color{deeppink}{\\text{Question 2: }}$  "
   ]
  },
  {
   "cell_type": "markdown",
   "id": "9c8e32b0",
   "metadata": {},
   "source": [
    "**Monte Carlo Simulation : Throwing Darts**\n",
    "\n",
    "The equation of our heart is given by:\n",
    "\n",
    "$\n",
    "(x^2 + y^2 - r^2)^3 - ax^2y^3=0\n",
    "$\n",
    "\n",
    "\n",
    "<div align=\"center\"><img src=\"https://raw.githubusercontent.com/TaraKhodaei/ISC-3313/master/images/heart.png\" width=\"45%\" /></div>\n",
    "\n",
    "Given $r = a = 1$, the area of our heart is:\n",
    "$$A(r,a) = \\pi r^2 + 0.501ra+\\frac{3\\pi}{512}a^2 \\simeq 3.66$$\n",
    "\n",
    "We want to stimate the area by randomly generating points inside a box $[-L,L] \\times [-L,L]$, where $L=2$. \n",
    "\n",
    "Perform Monte Carlo simulation to approximate the area inside the heart:\n",
    "\n",
    "1. Generate $N$ points in a 4 by 4 square centered at the origin. For example, you can generate $x_{points}$ and $y_{points}$ by \n",
    "\n",
    "$$L* np.random.uniform(-1, 1, N)$$\n",
    "\n",
    "2. Count the number of points inside the heart.\n",
    "\n",
    "    Note that a point is inside the heart if\n",
    "    $$\n",
    "    (x^2 + y^2 - r^2)^3 - ax^2y^3 <= 0\n",
    "    $$\n",
    "  \n",
    " <br>\n",
    "3. Compute the ratio of points inside the heart to the total points.\n",
    "\n",
    "4. Multiply the ratio by the area of square that is $(2L)^2= 16$\n",
    "\n",
    "\n",
    "<br><br>\n",
    "For $N = [10, 100, 1000, 10000, 100000]$ compute an approximation of heart_area and calculate an error $\\epsilon$\n",
    "\n",
    "$$\n",
    "\\epsilon = \\vert \\,\\,\\text{heart_area}_{\\,\\,\\text{true}} - \\text{heart_area}_{\\,\\,\\text{approx}\\,\\,} \\vert\n",
    "$$\n",
    "\n",
    "Create a log log plot using `plt.loglog()` of the the number of points and the error"
   ]
  },
  {
   "cell_type": "markdown",
   "id": "9fff3956",
   "metadata": {},
   "source": [
    "### Answer:"
   ]
  },
  {
   "cell_type": "code",
   "execution_count": null,
   "id": "a052b80b",
   "metadata": {},
   "outputs": [],
   "source": []
  },
  {
   "cell_type": "markdown",
   "id": "1455500e",
   "metadata": {},
   "source": [
    "## $\\color{deeppink}{\\text{Question 3: }}$   "
   ]
  },
  {
   "cell_type": "markdown",
   "id": "609d275a",
   "metadata": {},
   "source": [
    "The second order differential equation for the angle $x$ of a pendulum can be written:\n",
    "\n",
    "$$ \\displaystyle \\frac{\\mathrm{d}^2x}{\\mathrm{d}t^2} + b \\frac{\\mathrm{d}x}{\\mathrm{d}t} + c sin(x) = 0 $$\n",
    "\n",
    "\n",
    "where $b$ and $c$ are positive constants.\n",
    "\n",
    "- First, convert second order ODE  to a system of two first order equations.\n",
    "- Using `odeint` function, evaluate the system of ODEs. Consider initial state $y_0 = [1.0, 0.0]$, which means \n",
    "\n",
    "    $$ y_{0}[0]= x(t=0) == 1.0 \\quad , \\quad y_{0}[1] = x'(t=0) =  0.0$$\n",
    "\n",
    "    solve the ODE problem for $b = 0.25$ and $c = 5.0$, and from $t = 0$ to $t = 20$. \n",
    "\n",
    "- Create a plot of time verse $x(t)$ . "
   ]
  },
  {
   "cell_type": "markdown",
   "id": "d695c556",
   "metadata": {},
   "source": [
    "### Answer:"
   ]
  },
  {
   "cell_type": "code",
   "execution_count": null,
   "id": "93f3ab63",
   "metadata": {},
   "outputs": [],
   "source": []
  },
  {
   "cell_type": "markdown",
   "id": "6740d139",
   "metadata": {},
   "source": [
    "## $\\color{deeppink}{\\text{Question 4: }}$  "
   ]
  },
  {
   "cell_type": "markdown",
   "id": "98fda322",
   "metadata": {},
   "source": [
    "**Classes**\n",
    "\n",
    "Create a class based on the UML Diagram. \n",
    "\n",
    "Test the class to show that it is working correctly. \n",
    "\n",
    "\n",
    "<div align=\"center\"><img src=\"https://raw.githubusercontent.com/TaraKhodaei/ISC-3313/master/images/Rectangle_class.png\" width=\"30%\" /></div>\n",
    "\n",
    "Given `width=a` and `height=b` :`\n",
    "* area : `a * b`\n",
    "* premeter : `2*(a+b)`\n",
    "* scaleSize :  `scale both a and b`\n",
    "* authorName : `give your name`\n",
    "* str : print out in the format `\"Tara created a <1.0*1.5> rectangle\"` (with your name)\n",
    "\n"
   ]
  },
  {
   "cell_type": "markdown",
   "id": "1191c118",
   "metadata": {},
   "source": [
    "### Answer :"
   ]
  },
  {
   "cell_type": "code",
   "execution_count": 2,
   "id": "906d42fa",
   "metadata": {},
   "outputs": [],
   "source": [
    "# the class:\n",
    "\n",
    "\n",
    "# create an example of the class with width=2 and height=3:\n",
    "\n",
    "\n",
    "#find the area of the rectangle:\n",
    "\n",
    "\n",
    "#find the perimeter of the rectangle:\n",
    "\n",
    "\n",
    "#make the rectangle 50% smaller (scale=0.5):\n",
    "\n",
    "\n",
    "#re-print the new area of the rectangle"
   ]
  },
  {
   "cell_type": "code",
   "execution_count": null,
   "id": "21ead56e",
   "metadata": {},
   "outputs": [],
   "source": []
  }
 ],
 "metadata": {
  "kernelspec": {
   "display_name": "Python 3.8.9 64-bit",
   "language": "python",
   "name": "python3"
  },
  "language_info": {
   "codemirror_mode": {
    "name": "ipython",
    "version": 3
   },
   "file_extension": ".py",
   "mimetype": "text/x-python",
   "name": "python",
   "nbconvert_exporter": "python",
   "pygments_lexer": "ipython3",
   "version": "3.8.9"
  },
  "vscode": {
   "interpreter": {
    "hash": "31f2aee4e71d21fbe5cf8b01ff0e069b9275f58929596ceb00d14d90e3e16cd6"
   }
  }
 },
 "nbformat": 4,
 "nbformat_minor": 5
}
