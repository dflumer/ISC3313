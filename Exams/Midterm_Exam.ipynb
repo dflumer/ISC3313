{
 "cells": [
  {
   "cell_type": "markdown",
   "id": "67a39830",
   "metadata": {},
   "source": [
    "## <center> $\\text{ISC 3313: Introduction to Scientific Computing}$\n",
    "\n",
    "## <center> $\\color{deeppink}{\\text{Midterm Exam}}$       \n",
    "<center><b>June 21-22, 2021  (08:00 – 08:00 AM)</b></center>\n",
    "    \n",
    "***\n",
    "- This is an open notes, open internet exam.\n",
    "- You  may  not  communicate  or  collaborate  with  any  other  person  (talk,  email,  chat etc.)  throughout the duration of this exam.\n",
    "- Upload all your answers in Jupyter notebook ( if possible, upload a pdf/HTML of your answers as well ) via Canvas.\n",
    "- No credit aftre the due date.\n",
    "- **Scores** :\n",
    "| Question1 | Question2 | Question3 | Question4 | Total |\n",
    "| --- | --- | --- | --- | --- |\n",
    "| 30 | 25 | 25 | 20 | 100 |\n",
    "***"
   ]
  },
  {
   "cell_type": "code",
   "execution_count": 1,
   "id": "ccf11bdb",
   "metadata": {},
   "outputs": [],
   "source": [
    "import numpy as np \n",
    "import matplotlib.pyplot as plt"
   ]
  },
  {
   "cell_type": "markdown",
   "id": "1455500e",
   "metadata": {},
   "source": [
    "## $\\color{deeppink}{\\text{Question 1: }}$   "
   ]
  },
  {
   "cell_type": "markdown",
   "id": "f056188f",
   "metadata": {},
   "source": [
    "**Ordinary Differential Equations : Spreading of a disease**\n",
    "\n",
    "Let the function $S(t)$ count how many individuals, at time $t$ have the possibility to get infected. These individuals make up a category called susceptibles, labeled as $S$. \n",
    "\n",
    "Another category, $I$, consists of the individuals that are infected. $I(t)$ count how many there are in category $I$ at time $t$. \n",
    "\n",
    "An individual having recovered from the disease is assumed to gain immunity. There is also a small possibility that an infected will die. In either case, the individual is moved from the $I$ category to a category we call the removed category, labeled with $R$. Let $R(t)$ count the number of individuals in the $R$ category at time $t$.\n",
    "\n",
    "Assume that immunity after the disease only lasts for some certain time period. This means that there is transport from the R state to the S state.\n",
    "\n",
    "The fourth category, $V$, consists of the individuals who have taken a successful vaccination. $V(t)$ count how many there are in category $V$ at time $t$ with  a successful vaccination.\n",
    "\n",
    "\n",
    "We can visualize the categories (SIRV model), and the movement between them, as:\n",
    "\n",
    "<div align=\"center\"><img src=\"https://raw.githubusercontent.com/TaraKhodaei/ISC-3313/master/images/disease.png\" width=\"25%\" /></div>\n",
    "\n",
    "\n",
    "\n",
    "We can refere the model SIRV as a system of ODEs\n",
    "    \n",
    "$$\\begin{align*}\n",
    "    S'(t) &= -\\beta SI + \\alpha R - \\theta S\\\\\n",
    "    I'(t) &= \\beta SI - \\gamma I\\\\\n",
    "    R'(t) &= \\gamma I - \\alpha R\\\\\n",
    "    V'(t) &= \\theta S \\\\\n",
    "    S(0) &= 50, \\qquad I(0) = 1, \\qquad R(0) = 0, \\qquad V(0) = 0\n",
    "\\end{align*}$$\n",
    "\n",
    "Solve the ODEs for $t$ between 0 and 200, and $N=1000$.  Take $\\alpha=1/100$, $\\beta=1/150$ , $\\gamma=1/10$, and $\\theta=0.005$\n",
    "\n",
    "**A)**  Use the `forward_euler()` function in the lecture and solve the system of ODEs.\n",
    "\n",
    "**B)** Do a single plot of $t$ vs $S$, $I$, $R$, $V$.\n",
    "\n",
    "Give your plot axis labels, line labels, a title, and set the x limits between $[0,150]$. Change the default colors and line styles.\n"
   ]
  },
  {
   "cell_type": "markdown",
   "id": "0846522e",
   "metadata": {},
   "source": [
    "### Answer:"
   ]
  },
  {
   "cell_type": "code",
   "execution_count": null,
   "id": "217544d5",
   "metadata": {},
   "outputs": [],
   "source": []
  },
  {
   "cell_type": "markdown",
   "id": "b9ca70ca",
   "metadata": {},
   "source": [
    "## $\\color{deeppink}{\\text{Question 2: }}$  "
   ]
  },
  {
   "cell_type": "markdown",
   "id": "1fa3d56a",
   "metadata": {},
   "source": [
    "Given the list $A$ write python program to answer each part:\n",
    "\n",
    "$A= [2, 7, 5, 4, 14, 12, 14, 95, 3,10, 21, 4, 5, 66, 93, 2, 5, 17, 4, 22]$\n",
    "\n",
    "**a)**  Write a Python program to print all even numbers in list $A$.\n",
    "\n",
    "**b)**  Write a Python program to print all odd numbers in list $A$.\n",
    "\n",
    "**c)**  Write a Python program to count number of occurrences of number 4 in list $A$."
   ]
  },
  {
   "cell_type": "markdown",
   "id": "d695c556",
   "metadata": {},
   "source": [
    "### Answer:"
   ]
  },
  {
   "cell_type": "code",
   "execution_count": null,
   "id": "93f3ab63",
   "metadata": {},
   "outputs": [],
   "source": []
  },
  {
   "cell_type": "markdown",
   "id": "6740d139",
   "metadata": {},
   "source": [
    "## $\\color{deeppink}{\\text{Question 3: }}$  "
   ]
  },
  {
   "cell_type": "markdown",
   "id": "2f351a11",
   "metadata": {},
   "source": [
    " A string is said to be `symmetrical` if both the halves of the string are the same. For example \"khokho\" and \"abcab\" are symmetrical, and \"madam\" is not symmetrical.\n",
    " \n",
    " Write a lambda function, `is_symmetrical` which checks if a given string is symmetrical.\n",
    " \n",
    " Check your function for \"khokho\" , \"abcab\" , and \"madam\""
   ]
  },
  {
   "cell_type": "markdown",
   "id": "1191c118",
   "metadata": {},
   "source": [
    "### Answer :"
   ]
  },
  {
   "cell_type": "code",
   "execution_count": null,
   "id": "906d42fa",
   "metadata": {},
   "outputs": [],
   "source": []
  },
  {
   "cell_type": "markdown",
   "id": "ad8f5992",
   "metadata": {},
   "source": [
    "## $\\color{deeppink}{\\text{Question 4: }}$  "
   ]
  },
  {
   "cell_type": "markdown",
   "id": "cfcd9c5a",
   "metadata": {},
   "source": [
    "**a)** Using the linspace and reshape functions, create the array:\n",
    "$$ A = \\begin{bmatrix} 0.1 & 0.2 & 0.3 & 0.4 & 0.5\\\\ 0.6 & 0.7 & 0.8 & 0.9 & 1.0\\\\ 1.1 & 1.2 & 1.3 & 1.4 & 1.5\\\\ 1.6 & 1.7 & 1.8 & 1.9 & 2.0\\end{bmatrix}$$\n",
    "\n",
    "**b)** Print the number of dimensions, the size of each dimension, and the total size of the array\n",
    "\n",
    "**c)** Use slicing to extract the 2x2 array:\n",
    "$$ \\begin{bmatrix} 0.7 & 0.9\\\\ 1.7 & 1.9\\end{bmatrix}$$"
   ]
  },
  {
   "cell_type": "markdown",
   "id": "7d91ccb7",
   "metadata": {},
   "source": [
    "### Answer :"
   ]
  },
  {
   "cell_type": "code",
   "execution_count": null,
   "id": "f56e1c2a",
   "metadata": {},
   "outputs": [],
   "source": []
  }
 ],
 "metadata": {
  "kernelspec": {
   "display_name": "Python 3.8.8 ('base')",
   "language": "python",
   "name": "python3"
  },
  "language_info": {
   "codemirror_mode": {
    "name": "ipython",
    "version": 3
   },
   "file_extension": ".py",
   "mimetype": "text/x-python",
   "name": "python",
   "nbconvert_exporter": "python",
   "pygments_lexer": "ipython3",
   "version": "3.8.8"
  },
  "vscode": {
   "interpreter": {
    "hash": "e09110670e6c667630e41e12cd979b9aa1d79791708d496167df90ca14bf71ee"
   }
  }
 },
 "nbformat": 4,
 "nbformat_minor": 5
}
