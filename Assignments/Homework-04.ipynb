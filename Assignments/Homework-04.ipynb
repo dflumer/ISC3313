{
 "cells": [
  {
   "cell_type": "markdown",
   "metadata": {},
   "source": [
    "# Homework 4"
   ]
  },
  {
   "cell_type": "code",
   "execution_count": 1,
   "metadata": {},
   "outputs": [],
   "source": [
    "import numpy as np\n",
    "import matplotlib.pyplot as plt"
   ]
  },
  {
   "cell_type": "markdown",
   "metadata": {},
   "source": [
    "## Question 1\n",
    "### List Comprehension\n",
    "\n",
    "Convert the following loopy code to use list comprehensions instead"
   ]
  },
  {
   "cell_type": "markdown",
   "metadata": {},
   "source": [
    "#### A)"
   ]
  },
  {
   "cell_type": "code",
   "execution_count": 2,
   "metadata": {},
   "outputs": [
    {
     "name": "stdout",
     "output_type": "stream",
     "text": [
      "[3, 6, 11, 18, 27, 38, 51, 66, 83, 102]\n"
     ]
    }
   ],
   "source": [
    "numbers = []\n",
    "for x in range(10):\n",
    "    numbers.append(x**2 + 2*x + 3)\n",
    "print(numbers)"
   ]
  },
  {
   "cell_type": "code",
   "execution_count": 1,
   "metadata": {},
   "outputs": [
    {
     "name": "stdout",
     "output_type": "stream",
     "text": [
      "[3, 6, 11, 18, 27, 38, 51, 66, 83, 102]\n"
     ]
    }
   ],
   "source": [
    "import numpy as np\n",
    "import matplotlib.pyplot as plt\n",
    "\n",
    "numbers = [x**2 + 2*x + 3 for x in range(10)]\n",
    "print(numbers)"
   ]
  },
  {
   "cell_type": "markdown",
   "metadata": {},
   "source": [
    "#### B)"
   ]
  },
  {
   "cell_type": "code",
   "execution_count": 3,
   "metadata": {},
   "outputs": [
    {
     "name": "stdout",
     "output_type": "stream",
     "text": [
      "[3.605551275463989, 9.219544457292887, 3.605551275463989, 7.211102550927978, 9.219544457292887, 7.211102550927978]\n"
     ]
    }
   ],
   "source": [
    "points = np.array([[ 6,  1],\n",
    "                   [ 4,  4],\n",
    "                   [ 8, 10]])\n",
    "dist = []\n",
    "for p1 in points:\n",
    "    for p2 in points:\n",
    "        if (p1 != p2).all():\n",
    "            dist.append(np.sqrt((p1[0]-p2[0])**2 + (p1[1] - p2[1])**2))\n",
    "print(dist)"
   ]
  },
  {
   "cell_type": "code",
   "execution_count": 2,
   "metadata": {},
   "outputs": [
    {
     "name": "stdout",
     "output_type": "stream",
     "text": [
      "[3.605551275463989, 9.219544457292887, 3.605551275463989, 7.211102550927978, 9.219544457292887, 7.211102550927978]\n"
     ]
    }
   ],
   "source": [
    "points = np.array([[ 6,  1],\n",
    "                   [ 4,  4],\n",
    "                   [ 8, 10]])\n",
    "dist = []\n",
    "for p1 in points:\n",
    "    for p2 in points:\n",
    "        if (p1 != p2).all():\n",
    "            dist.append(np.sqrt((p1[0]-p2[0])**2 + (p1[1] - p2[1])**2))\n",
    "print(dist)"
   ]
  },
  {
   "cell_type": "markdown",
   "metadata": {},
   "source": [
    "#### C)"
   ]
  },
  {
   "cell_type": "code",
   "execution_count": 4,
   "metadata": {},
   "outputs": [
    {
     "name": "stdout",
     "output_type": "stream",
     "text": [
      "[5, 5, 3, 5, 4, 4, 3]\n"
     ]
    }
   ],
   "source": [
    "sentence = \"the quick brown fox jumps over the lazy dog\"\n",
    "words = sentence.split()\n",
    "word_lengths = []\n",
    "for word in words:\n",
    "    if word != \"the\":\n",
    "            word_lengths.append(len(word))\n",
    "print(word_lengths)"
   ]
  },
  {
   "cell_type": "code",
   "execution_count": 3,
   "metadata": {},
   "outputs": [
    {
     "name": "stdout",
     "output_type": "stream",
     "text": [
      "[5, 5, 3, 5, 4, 4, 3]\n"
     ]
    }
   ],
   "source": [
    "import numpy as np\n",
    "import matplotlib.pyplot as plt\n",
    "\n",
    "sentence = \"the quick brown fox jumps over the lazy dog\"\n",
    "words = sentence.split()\n",
    "word_lengths = []\n",
    "\n",
    "word_lengths = [len(word) for word in words if word != \"the\"]\n",
    "print(word_lengths)"
   ]
  },
  {
   "cell_type": "markdown",
   "metadata": {},
   "source": [
    "## Question 2\n",
    "\n",
    "### FizzBuzz\n",
    "\n",
    "Please zip all associated files and include them in your canvas submission. \n",
    "\n",
    "#### A)\n",
    "\n",
    "Write a stand alone python script called `fizzbuzz_A.py` that prints the numbers from 1 to 100. \n",
    "\n",
    "For multiples of three print “Fizz” instead of the number and for the multiples of five print “Buzz”. \n",
    "\n",
    "For numbers which are multiples of both three and five print “FizzBuzz”.\n",
    "\n",
    "#### B)\n",
    "\n",
    "Modify `fizzbuzz_A.py` to do the following (name it `fizzbuzz_B.py`):\n",
    "\n",
    "- Propmpt the user for the upper and lower bounds of the range\n",
    "- write the output to a file called `fizzbuzz.txt` instead of printing\n",
    "\n",
    "#### C) \n",
    "\n",
    "Modify `fizzbuzz_B.py` to do the following (name it `fizzbuzz_C.py`):\n",
    "\n",
    "- check if any command line arguments are given. \n",
    "- If there are then use them as the bounds, if not prompt the user\n",
    "- and again write the output to a file called `fizzbuzz.txt` instead of printing"
   ]
  },
  {
   "cell_type": "markdown",
   "metadata": {},
   "source": [
    "## Question 3\n",
    "### Statistics\n",
    "\n",
    "The exponential distribution is often used to describe the length of time between discrete random events such as \n",
    "\n",
    "- The time between raindrops hitting your roof\n",
    "- The time until a radioactive particle decays\n",
    "- The time it takes before your next telephone call\n",
    "\n",
    "The probability density function (pdf) of an exponential distribution is\n",
    "\n",
    "$$f(x;\\lambda )={\\begin{cases}\\lambda e^{-\\lambda x}&x\\geq 0,\\\\0&x<0.\\end{cases}}$$\n",
    "\n",
    "Let's say the city of Tallahassee has been closely monitoring the number of power outages reported. The time measured between reports roughly \n",
    "follows an exponential distribution with $\\lambda = 1.5$. (Let the $x$ variable represent weeks of time.)\n",
    "\n",
    "What is the probability that the time between power outages will 2 weeks or less?"
   ]
  },
  {
   "cell_type": "markdown",
   "metadata": {},
   "source": [
    "## Question 4\n",
    "\n",
    "### Integration by Darts\n",
    "\n",
    "<div align='center'><img src='https://raw.githubusercontent.com/TaraKhodaei/ISC-3313/master/images/mc_pi.png' width='50%'/></div>\n",
    "\n",
    "If a circle of radius $r$ is inscribed in a square with side length $2r$ then the ratio of the areas is \n",
    "\n",
    "$$\n",
    "\\frac{A_{circle}}{A_{square}} = \\frac{\\pi r^2}{(2r)^2} = \\frac{\\pi}{4}\n",
    "$$\n",
    "\n",
    "Multiplying the ratio by 4 we recover $\\pi$. We can use a Monte Carlo technique to approximate the area ratio and in turn $\\pi$.\n",
    "\n",
    "To simplify things we will assume $r=1$\n",
    "\n",
    "The algorithm is as follows:\n",
    "\n",
    "1. Generate $N$ points in a 2 by 2 square centered at the origin\n",
    "2. Count the number of points inside a unit circle centered at the origin\n",
    "3. Compute the ratio of points inside the circle to the total points\n",
    "4. Multiply the ratio by 4 to approximate $\\pi$\n",
    "\n",
    "Note that the equation for a unit circle is \n",
    "\n",
    "$$\n",
    "x^2 + y^2 = 1\n",
    "$$\n",
    "\n",
    "For $N = [10, 100, 1000, 10000, 100000]$ compute an approximation of $\\pi$ and calculate an error $\\epsilon$\n",
    "\n",
    "$$\n",
    "\\epsilon = \\vert \\pi_{\\text{true}} - \\pi_{\\text{approx}} \\vert\n",
    "$$\n",
    "\n",
    "Create a log log plot using `plt.loglog()` of the the number of points and the error"
   ]
  },
  {
   "cell_type": "code",
   "execution_count": 12,
   "metadata": {},
   "outputs": [
    {
     "name": "stdout",
     "output_type": "stream",
     "text": [
      "Actual:  3.141592653589793\n",
      "Approximation:  3.2\n",
      "Approximation:  3.2\n",
      "Approximation:  3.14\n",
      "Approximation:  3.162\n",
      "Approximation:  3.14116\n",
      "Error:  [0.05840734641020706, 0.05840734641020706, 0.0015926535897929917, 0.020407346410206806, 0.00043265358979294177]\n",
      "\n",
      "\n"
     ]
    },
    {
     "data": {
      "text/plain": [
       "[<matplotlib.lines.Line2D at 0x7fe599122640>]"
      ]
     },
     "execution_count": 12,
     "metadata": {},
     "output_type": "execute_result"
    },
    {
     "data": {
      "image/png": "[encoded data removed]",
      "text/plain": [
       "<Figure size 432x288 with 1 Axes>"
      ]
     },
     "metadata": {
      "needs_background": "light"
     },
     "output_type": "display_data"
    }
   ],
   "source": [
    "%matplotlib inline\n",
    "import numpy as np\n",
    "import matplotlib.pyplot as plt\n",
    "from scipy import integrate\n",
    "\n",
    "N = [10, 100, 1000, 10000, 100000]\n",
    "known = np.pi\n",
    "print(\"Actual: \", np.pi)\n",
    "\n",
    "inside = 0\n",
    "outside = 0\n",
    "error = []\n",
    "\n",
    "for n in N:\n",
    "  inside = 0\n",
    "  for i in range(n):\n",
    "    x = np.random.uniform(-1,1)\n",
    "    y = np.random.uniform(-1,1)\n",
    "    r = x**2 + y**2\n",
    "    if r <= 1:\n",
    "      inside +=1\n",
    "    outside += 1\n",
    "  approximation = 4 * inside/n\n",
    "  error.append(np.abs(known - approximation))\n",
    "  print(\"Approximation: \", approximation)\n",
    "\n",
    "print(\"Error: \", error)\n",
    "print(\"\\n\")\n",
    "\n",
    "plt.loglog(N, error, \"-o\")"
   ]
  },
  {
   "cell_type": "code",
   "execution_count": null,
   "metadata": {},
   "outputs": [],
   "source": []
  }
 ],
 "metadata": {
  "kernelspec": {
   "display_name": "Python 3.8.8 ('base')",
   "language": "python",
   "name": "python3"
  },
  "language_info": {
   "codemirror_mode": {
    "name": "ipython",
    "version": 3
   },
   "file_extension": ".py",
   "mimetype": "text/x-python",
   "name": "python",
   "nbconvert_exporter": "python",
   "pygments_lexer": "ipython3",
   "version": "3.8.8"
  },
  "vscode": {
   "interpreter": {
    "hash": "e09110670e6c667630e41e12cd979b9aa1d79791708d496167df90ca14bf71ee"
   }
  }
 },
 "nbformat": 4,
 "nbformat_minor": 2
}
