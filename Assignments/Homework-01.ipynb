{
 "cells": [
  {
   "cell_type": "markdown",
   "metadata": {},
   "source": [
    "# Homework 1\n",
    "\n",
    "In the first two weeks of class we have begun learning about the basic building blocks of Python including:\n",
    "- basic syntax\n",
    "- operators\n",
    "- scalar data types\n",
    "- structured data types\n",
    "\n",
    "This assignment will also involve some basic programming ediquite and debugging. "
   ]
  },
  {
   "cell_type": "markdown",
   "metadata": {},
   "source": [
    "## Question 1:\n",
    "\n",
    "The code snippets below all result in an error. \n",
    "\n",
    "For each example:\n",
    "- Report the error\n",
    "- Explain why it happend\n",
    "- Fix the code"
   ]
  },
  {
   "cell_type": "code",
   "execution_count": 1,
   "metadata": {},
   "outputs": [
    {
     "ename": "SyntaxError",
     "evalue": "Missing parentheses in call to 'print'. Did you mean print(\"e pluribus unum\")? (3807384922.py, line 1)",
     "output_type": "error",
     "traceback": [
      "\u001b[0;36m  Input \u001b[0;32mIn [1]\u001b[0;36m\u001b[0m\n\u001b[0;31m    print \"e pluribus unum\"\u001b[0m\n\u001b[0m          ^\u001b[0m\n\u001b[0;31mSyntaxError\u001b[0m\u001b[0;31m:\u001b[0m Missing parentheses in call to 'print'. Did you mean print(\"e pluribus unum\")?\n"
     ]
    }
   ],
   "source": [
    "print \"e pluribus unum\""
   ]
  },
  {
   "cell_type": "markdown",
   "metadata": {},
   "source": [
    "Error: Missing parentheses in call to 'print'.\n",
    "\n",
    "Explaination: functions require () in order to be called."
   ]
  },
  {
   "cell_type": "code",
   "execution_count": 2,
   "metadata": {},
   "outputs": [
    {
     "name": "stdout",
     "output_type": "stream",
     "text": [
      "e pluribus unum\n"
     ]
    }
   ],
   "source": [
    "print(\"e pluribus unum\")"
   ]
  },
  {
   "cell_type": "code",
   "execution_count": 3,
   "metadata": {},
   "outputs": [
    {
     "ename": "NameError",
     "evalue": "name 'group2' is not defined",
     "output_type": "error",
     "traceback": [
      "\u001b[0;31m---------------------------------------------------------------------------\u001b[0m",
      "\u001b[0;31mNameError\u001b[0m                                 Traceback (most recent call last)",
      "\u001b[1;32m/Users/dana/Desktop/ISC3313/Assignments/Homework-01.ipynb Cell 6\u001b[0m in \u001b[0;36m<cell line: 3>\u001b[0;34m()\u001b[0m\n\u001b[1;32m      <a href='vscode-notebook-cell:/Users/dana/Desktop/ISC3313/Assignments/Homework-01.ipynb#ch0000004?line=0'>1</a>\u001b[0m group_1 \u001b[39m=\u001b[39m \u001b[39m50\u001b[39m\n\u001b[1;32m      <a href='vscode-notebook-cell:/Users/dana/Desktop/ISC3313/Assignments/Homework-01.ipynb#ch0000004?line=1'>2</a>\u001b[0m group_2 \u001b[39m=\u001b[39m \u001b[39m25\u001b[39m\n\u001b[0;32m----> <a href='vscode-notebook-cell:/Users/dana/Desktop/ISC3313/Assignments/Homework-01.ipynb#ch0000004?line=2'>3</a>\u001b[0m total \u001b[39m=\u001b[39m group_1 \u001b[39m+\u001b[39m group2\n\u001b[1;32m      <a href='vscode-notebook-cell:/Users/dana/Desktop/ISC3313/Assignments/Homework-01.ipynb#ch0000004?line=3'>4</a>\u001b[0m \u001b[39mprint\u001b[39m(total)\n",
      "\u001b[0;31mNameError\u001b[0m: name 'group2' is not defined"
     ]
    }
   ],
   "source": [
    "group_1 = 50\n",
    "group_2 = 25\n",
    "total = group_1 + group2\n",
    "print(total)"
   ]
  },
  {
   "cell_type": "markdown",
   "metadata": {},
   "source": [
    "Error: name 'group2' is not defined\n",
    "\n",
    "Explaination: variables must have consistent names."
   ]
  },
  {
   "cell_type": "code",
   "execution_count": 4,
   "metadata": {},
   "outputs": [
    {
     "name": "stdout",
     "output_type": "stream",
     "text": [
      "75\n"
     ]
    }
   ],
   "source": [
    "group_1 = 50\n",
    "group_2 = 25\n",
    "total = group_1 + group_2\n",
    "print(total)"
   ]
  },
  {
   "cell_type": "code",
   "execution_count": 5,
   "metadata": {},
   "outputs": [
    {
     "ename": "TypeError",
     "evalue": "unsupported operand type(s) for +: 'int' and 'str'",
     "output_type": "error",
     "traceback": [
      "\u001b[0;31m---------------------------------------------------------------------------\u001b[0m",
      "\u001b[0;31mTypeError\u001b[0m                                 Traceback (most recent call last)",
      "\u001b[1;32m/Users/dana/Desktop/ISC3313/Assignments/Homework-01.ipynb Cell 9\u001b[0m in \u001b[0;36m<cell line: 1>\u001b[0;34m()\u001b[0m\n\u001b[0;32m----> <a href='vscode-notebook-cell:/Users/dana/Desktop/ISC3313/Assignments/Homework-01.ipynb#ch0000006?line=0'>1</a>\u001b[0m name \u001b[39m=\u001b[39m \u001b[39m2\u001b[39;49m \u001b[39m+\u001b[39;49m \u001b[39m'\u001b[39;49m\u001b[39mchainz\u001b[39;49m\u001b[39m'\u001b[39;49m\n\u001b[1;32m      <a href='vscode-notebook-cell:/Users/dana/Desktop/ISC3313/Assignments/Homework-01.ipynb#ch0000006?line=1'>2</a>\u001b[0m \u001b[39mprint\u001b[39m(name)\n",
      "\u001b[0;31mTypeError\u001b[0m: unsupported operand type(s) for +: 'int' and 'str'"
     ]
    }
   ],
   "source": [
    "name = 2 + 'chainz'\n",
    "print(name)"
   ]
  },
  {
   "cell_type": "markdown",
   "metadata": {},
   "source": [
    "Error: unsupported operand type(s) for +: 'int' and 'str'\n",
    "\n",
    "Explaination: different data types cannot be concatenated together."
   ]
  },
  {
   "cell_type": "code",
   "execution_count": 7,
   "metadata": {},
   "outputs": [
    {
     "name": "stdout",
     "output_type": "stream",
     "text": [
      "2chainz\n"
     ]
    }
   ],
   "source": [
    "name = str(2) + 'chainz'\n",
    "print(name)"
   ]
  },
  {
   "cell_type": "code",
   "execution_count": 9,
   "metadata": {},
   "outputs": [
    {
     "ename": "IndentationError",
     "evalue": "unindent does not match any outer indentation level (<tokenize>, line 3)",
     "output_type": "error",
     "traceback": [
      "\u001b[0;36m  File \u001b[0;32m<tokenize>:3\u001b[0;36m\u001b[0m\n\u001b[0;31m    print(i)\u001b[0m\n\u001b[0m    ^\u001b[0m\n\u001b[0;31mIndentationError\u001b[0m\u001b[0;31m:\u001b[0m unindent does not match any outer indentation level\n"
     ]
    }
   ],
   "source": [
    "for i in range(3):\n",
    "    print('Testing')\n",
    "  print(i)\n",
    "        "
   ]
  },
  {
   "cell_type": "markdown",
   "metadata": {},
   "source": [
    "Error: unindent does not match any outer indentation level\n",
    "\n",
    "Explaination: must use either tabs or spaces while indenting, not both. Indents must match while inside loop for proper output."
   ]
  },
  {
   "cell_type": "code",
   "execution_count": 21,
   "metadata": {},
   "outputs": [
    {
     "name": "stdout",
     "output_type": "stream",
     "text": [
      "Testing\n",
      "0\n",
      "Testing\n",
      "1\n",
      "Testing\n",
      "2\n"
     ]
    }
   ],
   "source": [
    "for i in range(3):\n",
    "  print('Testing')\n",
    "  print(i)"
   ]
  },
  {
   "cell_type": "markdown",
   "metadata": {},
   "source": [
    "## Question 2:\n",
    "\n",
    "The formula to convert Fahrenheit to Celsius is given by\n",
    "$$ C = \\frac{5}{9}(F - 32) $$\n",
    "\n",
    "Write a code snippet to calculate the temperature in Celsius."
   ]
  },
  {
   "cell_type": "code",
   "execution_count": 23,
   "metadata": {},
   "outputs": [
    {
     "name": "stdout",
     "output_type": "stream",
     "text": [
      "88.0 degrees fahrenheit is 31.1 degrees celsius\n"
     ]
    }
   ],
   "source": [
    "F = 88\n",
    "\n",
    "# Your Code Here #\n",
    "#----------------#\n",
    "C = 5 / 9 * (F - 32)\n",
    "#----------------#\n",
    "\n",
    "print(f'{F:.1f} degrees fahrenheit is {C:.1f} degrees celsius')"
   ]
  },
  {
   "cell_type": "markdown",
   "metadata": {},
   "source": [
    "## Question 3\n",
    "\n",
    "The bell-shaped Gaussian is given by\n",
    "\n",
    "$$ f(x)  = \\frac{1}{\\sqrt{2\\pi}s}\\exp\\left(-\\frac{1}{2}\\left(\\frac{x - m}{s}\\right)^2\\right)$$\n",
    "\n",
    "Given $s$, $m$ and $x$, write a code snippet to evaluate $f(x)$."
   ]
  },
  {
   "cell_type": "code",
   "execution_count": 24,
   "metadata": {},
   "outputs": [
    {
     "name": "stdout",
     "output_type": "stream",
     "text": [
      "0.17603266338214976\n"
     ]
    }
   ],
   "source": [
    "from math import pi, sqrt, exp\n",
    "\n",
    "x = 1\n",
    "m = 0\n",
    "s = 2\n",
    "\n",
    "# Your Code Here #\n",
    "#----------------#\n",
    "\n",
    "f = (1 / (sqrt(2 * pi) * s)) * exp((- 1 / 2) * (((x - m) / s)**2))\n",
    "\n",
    "#----------------#\n",
    "\n",
    "print(f)"
   ]
  },
  {
   "cell_type": "markdown",
   "metadata": {},
   "source": [
    "## Question 4\n",
    "\n",
    "DNA can be modeled as a string of characters using the alphabet: `A`, `C`, `G`, and `T`. One form of DNA mutation occurs when a substring of the DNA is reversed during the replication process. Usually, such a reversal occurs between what are termed inverted pairs. For example, if the pattern `TGAA` is later followed by the inverted pattern `AAGT`, it is possible that the slice of DNA delimited by those patterns could be inverted and reattached, since the bonds at each end will be locally the same.\n",
    "\n",
    "An example is shown here.\n",
    "\n",
    "<div align=\"center\"><img src=\"https://raw.githubusercontent.com/eitanlees/ISC-3313/master/images/dna.png\" width=\"300\"/></div>\n",
    "\n",
    "Design a program that works as follows. \n",
    "\n",
    "Given an original DNA string as well as the particular pattern \n",
    "\n",
    "1. Invert the pattern\n",
    "\n",
    "2. Locate the leftmost occurrence of that pattern, and the next subsequent occurrence of the inverted pattern. \n",
    "\n",
    "3. Print the mutated DNA, with the segment between the inverted pair reversed. \n",
    "\n",
    "Test your code on the example above.\n",
    "\n",
    "This problem is not trivial, but can be done using only string manipulation. Feel free to break up this code cell into multiple cells if needed. \n",
    "\n",
    "Please ask if you need any hints.\n",
    "\n",
    "**Do not hard code specific numbers** such as `dna[0:4]`. Instead use the variables to do the indexing like `dna[0:index1]` "
   ]
  },
  {
   "cell_type": "code",
   "execution_count": 34,
   "metadata": {},
   "outputs": [
    {
     "name": "stdout",
     "output_type": "stream",
     "text": [
      "TGAACATTAAGT\n",
      "TGAATTACAAGT\n"
     ]
    }
   ],
   "source": [
    "dna  =  \"TGAACATTAAGT\"\n",
    "pattern = \"TGAA\"\n",
    "\n",
    "# invert pattern\n",
    "pattern_inv = pattern[::-1]\n",
    "\n",
    "# find end index of first occurence of pattern\n",
    "# HINT: use the find() method to find the index in DNA sequence where pattern starts, \n",
    "# then add the length of the pattern\n",
    "index1 = dna.find(pattern)\n",
    "\n",
    "# find beginning of first occurence of inverted pattern\n",
    "# HINT: Again use the find() method \n",
    "index2 = dna.find(pattern_inv)\n",
    "dna_mut = dna[index1:index2+len(pattern)]\n",
    "i = [i for i in dna_mut]\n",
    "i.reverse()\n",
    "dna_mut=''.join(i)\n",
    "\n",
    "# concatenate everything together\n",
    "# HINT: mutated DNA will look like:\n",
    "# (dna from 0 up to index1 - 1) + (reverse dna from index1 to index2 - 1) + (dna from index2 to the end)\n",
    "dna_mut = fixed_dna=dna[:index1]+dna_mut+dna[index2+len(pattern):]\n",
    "\n",
    "# print results\n",
    "print(dna)\n",
    "print(dna_mut)"
   ]
  },
  {
   "cell_type": "code",
   "execution_count": null,
   "metadata": {},
   "outputs": [],
   "source": []
  }
 ],
 "metadata": {
  "kernel_info": {
   "name": "python3"
  },
  "kernelspec": {
   "display_name": "Python 3.8.8 ('base')",
   "language": "python",
   "name": "python3"
  },
  "language_info": {
   "codemirror_mode": {
    "name": "ipython",
    "version": 3
   },
   "file_extension": ".py",
   "mimetype": "text/x-python",
   "name": "python",
   "nbconvert_exporter": "python",
   "pygments_lexer": "ipython3",
   "version": "3.8.8"
  },
  "nteract": {
   "version": "0.8.4"
  },
  "vscode": {
   "interpreter": {
    "hash": "e09110670e6c667630e41e12cd979b9aa1d79791708d496167df90ca14bf71ee"
   }
  }
 },
 "nbformat": 4,
 "nbformat_minor": 2
}
